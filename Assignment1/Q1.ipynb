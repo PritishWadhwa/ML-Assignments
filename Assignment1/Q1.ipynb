{
 "cells": [
  {
   "cell_type": "code",
   "execution_count": 396,
   "source": [
    "import numpy as np\n",
    "import pandas as pd\n",
    "import matplotlib.pyplot as plt\n",
    "from tqdm import tqdm\n",
    "np.random.seed(0)"
   ],
   "outputs": [],
   "metadata": {}
  },
  {
   "cell_type": "markdown",
   "source": [
    "# Loading the dataset"
   ],
   "metadata": {}
  },
  {
   "cell_type": "code",
   "execution_count": 397,
   "source": [
    "abaloneDF = pd.DataFrame(pd.read_csv('./Weights/abalone.csv', header=None))\n",
    "abaloneDF.columns = ['sex', 'length', 'diameter', 'height', 'whole weight', 'shucked weight', 'viscera weight', 'shell weight', 'rings']\n",
    "print(abaloneDF.shape)\n",
    "abaloneDF.head()"
   ],
   "outputs": [
    {
     "output_type": "stream",
     "name": "stdout",
     "text": [
      "(4177, 9)\n"
     ]
    },
    {
     "output_type": "execute_result",
     "data": {
      "text/html": [
       "<div>\n",
       "<style scoped>\n",
       "    .dataframe tbody tr th:only-of-type {\n",
       "        vertical-align: middle;\n",
       "    }\n",
       "\n",
       "    .dataframe tbody tr th {\n",
       "        vertical-align: top;\n",
       "    }\n",
       "\n",
       "    .dataframe thead th {\n",
       "        text-align: right;\n",
       "    }\n",
       "</style>\n",
       "<table border=\"1\" class=\"dataframe\">\n",
       "  <thead>\n",
       "    <tr style=\"text-align: right;\">\n",
       "      <th></th>\n",
       "      <th>sex</th>\n",
       "      <th>length</th>\n",
       "      <th>diameter</th>\n",
       "      <th>height</th>\n",
       "      <th>whole weight</th>\n",
       "      <th>shucked weight</th>\n",
       "      <th>viscera weight</th>\n",
       "      <th>shell weight</th>\n",
       "      <th>rings</th>\n",
       "    </tr>\n",
       "  </thead>\n",
       "  <tbody>\n",
       "    <tr>\n",
       "      <th>0</th>\n",
       "      <td>M</td>\n",
       "      <td>0.455</td>\n",
       "      <td>0.365</td>\n",
       "      <td>0.095</td>\n",
       "      <td>0.5140</td>\n",
       "      <td>0.2245</td>\n",
       "      <td>0.1010</td>\n",
       "      <td>0.150</td>\n",
       "      <td>15</td>\n",
       "    </tr>\n",
       "    <tr>\n",
       "      <th>1</th>\n",
       "      <td>M</td>\n",
       "      <td>0.350</td>\n",
       "      <td>0.265</td>\n",
       "      <td>0.090</td>\n",
       "      <td>0.2255</td>\n",
       "      <td>0.0995</td>\n",
       "      <td>0.0485</td>\n",
       "      <td>0.070</td>\n",
       "      <td>7</td>\n",
       "    </tr>\n",
       "    <tr>\n",
       "      <th>2</th>\n",
       "      <td>F</td>\n",
       "      <td>0.530</td>\n",
       "      <td>0.420</td>\n",
       "      <td>0.135</td>\n",
       "      <td>0.6770</td>\n",
       "      <td>0.2565</td>\n",
       "      <td>0.1415</td>\n",
       "      <td>0.210</td>\n",
       "      <td>9</td>\n",
       "    </tr>\n",
       "    <tr>\n",
       "      <th>3</th>\n",
       "      <td>M</td>\n",
       "      <td>0.440</td>\n",
       "      <td>0.365</td>\n",
       "      <td>0.125</td>\n",
       "      <td>0.5160</td>\n",
       "      <td>0.2155</td>\n",
       "      <td>0.1140</td>\n",
       "      <td>0.155</td>\n",
       "      <td>10</td>\n",
       "    </tr>\n",
       "    <tr>\n",
       "      <th>4</th>\n",
       "      <td>I</td>\n",
       "      <td>0.330</td>\n",
       "      <td>0.255</td>\n",
       "      <td>0.080</td>\n",
       "      <td>0.2050</td>\n",
       "      <td>0.0895</td>\n",
       "      <td>0.0395</td>\n",
       "      <td>0.055</td>\n",
       "      <td>7</td>\n",
       "    </tr>\n",
       "  </tbody>\n",
       "</table>\n",
       "</div>"
      ],
      "text/plain": [
       "  sex  length  diameter  height  whole weight  shucked weight  viscera weight  \\\n",
       "0   M   0.455     0.365   0.095        0.5140          0.2245          0.1010   \n",
       "1   M   0.350     0.265   0.090        0.2255          0.0995          0.0485   \n",
       "2   F   0.530     0.420   0.135        0.6770          0.2565          0.1415   \n",
       "3   M   0.440     0.365   0.125        0.5160          0.2155          0.1140   \n",
       "4   I   0.330     0.255   0.080        0.2050          0.0895          0.0395   \n",
       "\n",
       "   shell weight  rings  \n",
       "0         0.150     15  \n",
       "1         0.070      7  \n",
       "2         0.210      9  \n",
       "3         0.155     10  \n",
       "4         0.055      7  "
      ]
     },
     "metadata": {},
     "execution_count": 397
    }
   ],
   "metadata": {}
  },
  {
   "cell_type": "markdown",
   "source": [
    "# Preprocessing the dataset"
   ],
   "metadata": {}
  },
  {
   "cell_type": "code",
   "execution_count": 398,
   "source": [
    "# counting the unique values in the sex column\n",
    "np.unique(abaloneDF['sex'])"
   ],
   "outputs": [
    {
     "output_type": "execute_result",
     "data": {
      "text/plain": [
       "array(['F', 'I', 'M'], dtype=object)"
      ]
     },
     "metadata": {},
     "execution_count": 398
    }
   ],
   "metadata": {}
  },
  {
   "cell_type": "markdown",
   "source": [
    "## Encoding the categorical data in the sex column to numerical data"
   ],
   "metadata": {}
  },
  {
   "cell_type": "code",
   "execution_count": 399,
   "source": [
    "def encode(sex):\n",
    "    if sex == 'M':\n",
    "        return 2\n",
    "    elif sex == 'F':\n",
    "        return 1\n",
    "    return 0"
   ],
   "outputs": [],
   "metadata": {}
  },
  {
   "cell_type": "code",
   "execution_count": 400,
   "source": [
    "abaloneDF['sex'] = abaloneDF['sex'].apply(encode)"
   ],
   "outputs": [],
   "metadata": {}
  },
  {
   "cell_type": "code",
   "execution_count": 401,
   "source": [
    "abaloneDF.head()"
   ],
   "outputs": [
    {
     "output_type": "execute_result",
     "data": {
      "text/html": [
       "<div>\n",
       "<style scoped>\n",
       "    .dataframe tbody tr th:only-of-type {\n",
       "        vertical-align: middle;\n",
       "    }\n",
       "\n",
       "    .dataframe tbody tr th {\n",
       "        vertical-align: top;\n",
       "    }\n",
       "\n",
       "    .dataframe thead th {\n",
       "        text-align: right;\n",
       "    }\n",
       "</style>\n",
       "<table border=\"1\" class=\"dataframe\">\n",
       "  <thead>\n",
       "    <tr style=\"text-align: right;\">\n",
       "      <th></th>\n",
       "      <th>sex</th>\n",
       "      <th>length</th>\n",
       "      <th>diameter</th>\n",
       "      <th>height</th>\n",
       "      <th>whole weight</th>\n",
       "      <th>shucked weight</th>\n",
       "      <th>viscera weight</th>\n",
       "      <th>shell weight</th>\n",
       "      <th>rings</th>\n",
       "    </tr>\n",
       "  </thead>\n",
       "  <tbody>\n",
       "    <tr>\n",
       "      <th>0</th>\n",
       "      <td>2</td>\n",
       "      <td>0.455</td>\n",
       "      <td>0.365</td>\n",
       "      <td>0.095</td>\n",
       "      <td>0.5140</td>\n",
       "      <td>0.2245</td>\n",
       "      <td>0.1010</td>\n",
       "      <td>0.150</td>\n",
       "      <td>15</td>\n",
       "    </tr>\n",
       "    <tr>\n",
       "      <th>1</th>\n",
       "      <td>2</td>\n",
       "      <td>0.350</td>\n",
       "      <td>0.265</td>\n",
       "      <td>0.090</td>\n",
       "      <td>0.2255</td>\n",
       "      <td>0.0995</td>\n",
       "      <td>0.0485</td>\n",
       "      <td>0.070</td>\n",
       "      <td>7</td>\n",
       "    </tr>\n",
       "    <tr>\n",
       "      <th>2</th>\n",
       "      <td>1</td>\n",
       "      <td>0.530</td>\n",
       "      <td>0.420</td>\n",
       "      <td>0.135</td>\n",
       "      <td>0.6770</td>\n",
       "      <td>0.2565</td>\n",
       "      <td>0.1415</td>\n",
       "      <td>0.210</td>\n",
       "      <td>9</td>\n",
       "    </tr>\n",
       "    <tr>\n",
       "      <th>3</th>\n",
       "      <td>2</td>\n",
       "      <td>0.440</td>\n",
       "      <td>0.365</td>\n",
       "      <td>0.125</td>\n",
       "      <td>0.5160</td>\n",
       "      <td>0.2155</td>\n",
       "      <td>0.1140</td>\n",
       "      <td>0.155</td>\n",
       "      <td>10</td>\n",
       "    </tr>\n",
       "    <tr>\n",
       "      <th>4</th>\n",
       "      <td>0</td>\n",
       "      <td>0.330</td>\n",
       "      <td>0.255</td>\n",
       "      <td>0.080</td>\n",
       "      <td>0.2050</td>\n",
       "      <td>0.0895</td>\n",
       "      <td>0.0395</td>\n",
       "      <td>0.055</td>\n",
       "      <td>7</td>\n",
       "    </tr>\n",
       "  </tbody>\n",
       "</table>\n",
       "</div>"
      ],
      "text/plain": [
       "   sex  length  diameter  height  whole weight  shucked weight  \\\n",
       "0    2   0.455     0.365   0.095        0.5140          0.2245   \n",
       "1    2   0.350     0.265   0.090        0.2255          0.0995   \n",
       "2    1   0.530     0.420   0.135        0.6770          0.2565   \n",
       "3    2   0.440     0.365   0.125        0.5160          0.2155   \n",
       "4    0   0.330     0.255   0.080        0.2050          0.0895   \n",
       "\n",
       "   viscera weight  shell weight  rings  \n",
       "0          0.1010         0.150     15  \n",
       "1          0.0485         0.070      7  \n",
       "2          0.1415         0.210      9  \n",
       "3          0.1140         0.155     10  \n",
       "4          0.0395         0.055      7  "
      ]
     },
     "metadata": {},
     "execution_count": 401
    }
   ],
   "metadata": {}
  },
  {
   "cell_type": "markdown",
   "source": [
    "## Getting basic details of the dataset"
   ],
   "metadata": {}
  },
  {
   "cell_type": "code",
   "execution_count": 402,
   "source": [
    "abaloneDF.info()"
   ],
   "outputs": [
    {
     "output_type": "stream",
     "name": "stdout",
     "text": [
      "<class 'pandas.core.frame.DataFrame'>\n",
      "RangeIndex: 4177 entries, 0 to 4176\n",
      "Data columns (total 9 columns):\n",
      " #   Column          Non-Null Count  Dtype  \n",
      "---  ------          --------------  -----  \n",
      " 0   sex             4177 non-null   int64  \n",
      " 1   length          4177 non-null   float64\n",
      " 2   diameter        4177 non-null   float64\n",
      " 3   height          4177 non-null   float64\n",
      " 4   whole weight    4177 non-null   float64\n",
      " 5   shucked weight  4177 non-null   float64\n",
      " 6   viscera weight  4177 non-null   float64\n",
      " 7   shell weight    4177 non-null   float64\n",
      " 8   rings           4177 non-null   int64  \n",
      "dtypes: float64(7), int64(2)\n",
      "memory usage: 293.8 KB\n"
     ]
    }
   ],
   "metadata": {}
  },
  {
   "cell_type": "code",
   "execution_count": 403,
   "source": [
    "abaloneDF.describe()"
   ],
   "outputs": [
    {
     "output_type": "execute_result",
     "data": {
      "text/html": [
       "<div>\n",
       "<style scoped>\n",
       "    .dataframe tbody tr th:only-of-type {\n",
       "        vertical-align: middle;\n",
       "    }\n",
       "\n",
       "    .dataframe tbody tr th {\n",
       "        vertical-align: top;\n",
       "    }\n",
       "\n",
       "    .dataframe thead th {\n",
       "        text-align: right;\n",
       "    }\n",
       "</style>\n",
       "<table border=\"1\" class=\"dataframe\">\n",
       "  <thead>\n",
       "    <tr style=\"text-align: right;\">\n",
       "      <th></th>\n",
       "      <th>sex</th>\n",
       "      <th>length</th>\n",
       "      <th>diameter</th>\n",
       "      <th>height</th>\n",
       "      <th>whole weight</th>\n",
       "      <th>shucked weight</th>\n",
       "      <th>viscera weight</th>\n",
       "      <th>shell weight</th>\n",
       "      <th>rings</th>\n",
       "    </tr>\n",
       "  </thead>\n",
       "  <tbody>\n",
       "    <tr>\n",
       "      <th>count</th>\n",
       "      <td>4177.000000</td>\n",
       "      <td>4177.000000</td>\n",
       "      <td>4177.000000</td>\n",
       "      <td>4177.000000</td>\n",
       "      <td>4177.000000</td>\n",
       "      <td>4177.000000</td>\n",
       "      <td>4177.000000</td>\n",
       "      <td>4177.000000</td>\n",
       "      <td>4177.000000</td>\n",
       "    </tr>\n",
       "    <tr>\n",
       "      <th>mean</th>\n",
       "      <td>1.044530</td>\n",
       "      <td>0.523992</td>\n",
       "      <td>0.407881</td>\n",
       "      <td>0.139516</td>\n",
       "      <td>0.828742</td>\n",
       "      <td>0.359367</td>\n",
       "      <td>0.180594</td>\n",
       "      <td>0.238831</td>\n",
       "      <td>9.933684</td>\n",
       "    </tr>\n",
       "    <tr>\n",
       "      <th>std</th>\n",
       "      <td>0.827815</td>\n",
       "      <td>0.120093</td>\n",
       "      <td>0.099240</td>\n",
       "      <td>0.041827</td>\n",
       "      <td>0.490389</td>\n",
       "      <td>0.221963</td>\n",
       "      <td>0.109614</td>\n",
       "      <td>0.139203</td>\n",
       "      <td>3.224169</td>\n",
       "    </tr>\n",
       "    <tr>\n",
       "      <th>min</th>\n",
       "      <td>0.000000</td>\n",
       "      <td>0.075000</td>\n",
       "      <td>0.055000</td>\n",
       "      <td>0.000000</td>\n",
       "      <td>0.002000</td>\n",
       "      <td>0.001000</td>\n",
       "      <td>0.000500</td>\n",
       "      <td>0.001500</td>\n",
       "      <td>1.000000</td>\n",
       "    </tr>\n",
       "    <tr>\n",
       "      <th>25%</th>\n",
       "      <td>0.000000</td>\n",
       "      <td>0.450000</td>\n",
       "      <td>0.350000</td>\n",
       "      <td>0.115000</td>\n",
       "      <td>0.441500</td>\n",
       "      <td>0.186000</td>\n",
       "      <td>0.093500</td>\n",
       "      <td>0.130000</td>\n",
       "      <td>8.000000</td>\n",
       "    </tr>\n",
       "    <tr>\n",
       "      <th>50%</th>\n",
       "      <td>1.000000</td>\n",
       "      <td>0.545000</td>\n",
       "      <td>0.425000</td>\n",
       "      <td>0.140000</td>\n",
       "      <td>0.799500</td>\n",
       "      <td>0.336000</td>\n",
       "      <td>0.171000</td>\n",
       "      <td>0.234000</td>\n",
       "      <td>9.000000</td>\n",
       "    </tr>\n",
       "    <tr>\n",
       "      <th>75%</th>\n",
       "      <td>2.000000</td>\n",
       "      <td>0.615000</td>\n",
       "      <td>0.480000</td>\n",
       "      <td>0.165000</td>\n",
       "      <td>1.153000</td>\n",
       "      <td>0.502000</td>\n",
       "      <td>0.253000</td>\n",
       "      <td>0.329000</td>\n",
       "      <td>11.000000</td>\n",
       "    </tr>\n",
       "    <tr>\n",
       "      <th>max</th>\n",
       "      <td>2.000000</td>\n",
       "      <td>0.815000</td>\n",
       "      <td>0.650000</td>\n",
       "      <td>1.130000</td>\n",
       "      <td>2.825500</td>\n",
       "      <td>1.488000</td>\n",
       "      <td>0.760000</td>\n",
       "      <td>1.005000</td>\n",
       "      <td>29.000000</td>\n",
       "    </tr>\n",
       "  </tbody>\n",
       "</table>\n",
       "</div>"
      ],
      "text/plain": [
       "               sex       length     diameter       height  whole weight  \\\n",
       "count  4177.000000  4177.000000  4177.000000  4177.000000   4177.000000   \n",
       "mean      1.044530     0.523992     0.407881     0.139516      0.828742   \n",
       "std       0.827815     0.120093     0.099240     0.041827      0.490389   \n",
       "min       0.000000     0.075000     0.055000     0.000000      0.002000   \n",
       "25%       0.000000     0.450000     0.350000     0.115000      0.441500   \n",
       "50%       1.000000     0.545000     0.425000     0.140000      0.799500   \n",
       "75%       2.000000     0.615000     0.480000     0.165000      1.153000   \n",
       "max       2.000000     0.815000     0.650000     1.130000      2.825500   \n",
       "\n",
       "       shucked weight  viscera weight  shell weight        rings  \n",
       "count     4177.000000     4177.000000   4177.000000  4177.000000  \n",
       "mean         0.359367        0.180594      0.238831     9.933684  \n",
       "std          0.221963        0.109614      0.139203     3.224169  \n",
       "min          0.001000        0.000500      0.001500     1.000000  \n",
       "25%          0.186000        0.093500      0.130000     8.000000  \n",
       "50%          0.336000        0.171000      0.234000     9.000000  \n",
       "75%          0.502000        0.253000      0.329000    11.000000  \n",
       "max          1.488000        0.760000      1.005000    29.000000  "
      ]
     },
     "metadata": {},
     "execution_count": 403
    }
   ],
   "metadata": {}
  },
  {
   "cell_type": "markdown",
   "source": [
    "## Dividing dataset in test and train samples"
   ],
   "metadata": {}
  },
  {
   "cell_type": "code",
   "execution_count": 566,
   "source": [
    "abaloneDF = abaloneDF.sample(frac=1.0).reset_index(drop=True)\n",
    "abaloneDF.head()"
   ],
   "outputs": [
    {
     "output_type": "execute_result",
     "data": {
      "text/html": [
       "<div>\n",
       "<style scoped>\n",
       "    .dataframe tbody tr th:only-of-type {\n",
       "        vertical-align: middle;\n",
       "    }\n",
       "\n",
       "    .dataframe tbody tr th {\n",
       "        vertical-align: top;\n",
       "    }\n",
       "\n",
       "    .dataframe thead th {\n",
       "        text-align: right;\n",
       "    }\n",
       "</style>\n",
       "<table border=\"1\" class=\"dataframe\">\n",
       "  <thead>\n",
       "    <tr style=\"text-align: right;\">\n",
       "      <th></th>\n",
       "      <th>sex</th>\n",
       "      <th>length</th>\n",
       "      <th>diameter</th>\n",
       "      <th>height</th>\n",
       "      <th>whole weight</th>\n",
       "      <th>shucked weight</th>\n",
       "      <th>viscera weight</th>\n",
       "      <th>shell weight</th>\n",
       "      <th>rings</th>\n",
       "    </tr>\n",
       "  </thead>\n",
       "  <tbody>\n",
       "    <tr>\n",
       "      <th>0</th>\n",
       "      <td>0</td>\n",
       "      <td>0.425</td>\n",
       "      <td>0.325</td>\n",
       "      <td>0.115</td>\n",
       "      <td>0.3685</td>\n",
       "      <td>0.1620</td>\n",
       "      <td>0.0865</td>\n",
       "      <td>0.1045</td>\n",
       "      <td>7</td>\n",
       "    </tr>\n",
       "    <tr>\n",
       "      <th>1</th>\n",
       "      <td>2</td>\n",
       "      <td>0.625</td>\n",
       "      <td>0.520</td>\n",
       "      <td>0.175</td>\n",
       "      <td>1.4105</td>\n",
       "      <td>0.6910</td>\n",
       "      <td>0.3220</td>\n",
       "      <td>0.3465</td>\n",
       "      <td>10</td>\n",
       "    </tr>\n",
       "    <tr>\n",
       "      <th>2</th>\n",
       "      <td>1</td>\n",
       "      <td>0.560</td>\n",
       "      <td>0.420</td>\n",
       "      <td>0.180</td>\n",
       "      <td>1.6645</td>\n",
       "      <td>0.7755</td>\n",
       "      <td>0.3500</td>\n",
       "      <td>0.4525</td>\n",
       "      <td>9</td>\n",
       "    </tr>\n",
       "    <tr>\n",
       "      <th>3</th>\n",
       "      <td>1</td>\n",
       "      <td>0.650</td>\n",
       "      <td>0.545</td>\n",
       "      <td>0.230</td>\n",
       "      <td>1.7520</td>\n",
       "      <td>0.5605</td>\n",
       "      <td>0.2895</td>\n",
       "      <td>0.8150</td>\n",
       "      <td>16</td>\n",
       "    </tr>\n",
       "    <tr>\n",
       "      <th>4</th>\n",
       "      <td>2</td>\n",
       "      <td>0.330</td>\n",
       "      <td>0.235</td>\n",
       "      <td>0.090</td>\n",
       "      <td>0.1630</td>\n",
       "      <td>0.0615</td>\n",
       "      <td>0.0340</td>\n",
       "      <td>0.0550</td>\n",
       "      <td>10</td>\n",
       "    </tr>\n",
       "  </tbody>\n",
       "</table>\n",
       "</div>"
      ],
      "text/plain": [
       "   sex  length  diameter  height  whole weight  shucked weight  \\\n",
       "0    0   0.425     0.325   0.115        0.3685          0.1620   \n",
       "1    2   0.625     0.520   0.175        1.4105          0.6910   \n",
       "2    1   0.560     0.420   0.180        1.6645          0.7755   \n",
       "3    1   0.650     0.545   0.230        1.7520          0.5605   \n",
       "4    2   0.330     0.235   0.090        0.1630          0.0615   \n",
       "\n",
       "   viscera weight  shell weight  rings  \n",
       "0          0.0865        0.1045      7  \n",
       "1          0.3220        0.3465     10  \n",
       "2          0.3500        0.4525      9  \n",
       "3          0.2895        0.8150     16  \n",
       "4          0.0340        0.0550     10  "
      ]
     },
     "metadata": {},
     "execution_count": 566
    }
   ],
   "metadata": {}
  },
  {
   "cell_type": "code",
   "execution_count": 567,
   "source": [
    "trainSize = int(0.8 * len(abaloneDF))\n",
    "trainData = abaloneDF[:trainSize].values\n",
    "testData = abaloneDF[trainSize:].values"
   ],
   "outputs": [],
   "metadata": {}
  },
  {
   "cell_type": "code",
   "execution_count": 568,
   "source": [
    "print(trainData.shape, testData.shape)"
   ],
   "outputs": [
    {
     "output_type": "stream",
     "name": "stdout",
     "text": [
      "(3341, 9) (836, 9)\n"
     ]
    }
   ],
   "metadata": {}
  },
  {
   "cell_type": "code",
   "execution_count": 569,
   "source": [
    "X_train = trainData[:, :8]\n",
    "y_train = trainData[:, 8]\n",
    "X_test = testData[:, :8]\n",
    "y_test = testData[:, 8]"
   ],
   "outputs": [],
   "metadata": {}
  },
  {
   "cell_type": "code",
   "execution_count": 570,
   "source": [
    "print(X_train.shape, y_train.shape, X_test.shape, y_test.shape)"
   ],
   "outputs": [
    {
     "output_type": "stream",
     "name": "stdout",
     "text": [
      "(3341, 8) (3341,) (836, 8) (836,)\n"
     ]
    }
   ],
   "metadata": {}
  },
  {
   "cell_type": "code",
   "execution_count": 571,
   "source": [
    "X_train"
   ],
   "outputs": [
    {
     "output_type": "execute_result",
     "data": {
      "text/plain": [
       "array([[0.    , 0.425 , 0.325 , ..., 0.162 , 0.0865, 0.1045],\n",
       "       [2.    , 0.625 , 0.52  , ..., 0.691 , 0.322 , 0.3465],\n",
       "       [1.    , 0.56  , 0.42  , ..., 0.7755, 0.35  , 0.4525],\n",
       "       ...,\n",
       "       [0.    , 0.375 , 0.29  , ..., 0.14  , 0.0625, 0.0825],\n",
       "       [0.    , 0.465 , 0.355 , ..., 0.23  , 0.1005, 0.12  ],\n",
       "       [0.    , 0.545 , 0.43  , ..., 0.302 , 0.1315, 0.2545]])"
      ]
     },
     "metadata": {},
     "execution_count": 571
    }
   ],
   "metadata": {}
  },
  {
   "cell_type": "markdown",
   "source": [
    "## Normalize the training data (each feature should have 0 mean and 1 standard deviation)"
   ],
   "metadata": {}
  },
  {
   "cell_type": "code",
   "execution_count": 572,
   "source": [
    "X_mean = np.mean(X_train, axis=0)\n",
    "X_std = np.std(X_train, axis=0)"
   ],
   "outputs": [],
   "metadata": {}
  },
  {
   "cell_type": "code",
   "execution_count": 573,
   "source": [
    "X_train = (X_train - X_mean) / X_std\n",
    "X_test = (X_test - X_mean) / X_std"
   ],
   "outputs": [],
   "metadata": {}
  },
  {
   "cell_type": "code",
   "execution_count": 574,
   "source": [
    "# adding a column of 1's in the start of the training and test datas to denote X0\n",
    "trainOnes = np.ones((trainData.shape[0], 1))\n",
    "testOnes = np.ones((testData.shape[0], 1))\n",
    "print(trainOnes.shape, testOnes.shape)\n",
    "X_train = np.hstack((trainOnes, X_train))\n",
    "X_test = np.hstack((testOnes, X_test))\n",
    "print(X_train.shape, X_test.shape)\n"
   ],
   "outputs": [
    {
     "output_type": "stream",
     "name": "stdout",
     "text": [
      "(3341, 1) (836, 1)\n",
      "(3341, 9) (836, 9)\n"
     ]
    }
   ],
   "metadata": {}
  },
  {
   "cell_type": "code",
   "execution_count": 575,
   "source": [
    "print(np.mean(X_train, axis=0))\n",
    "print(np.std(X_train, axis=0))"
   ],
   "outputs": [
    {
     "output_type": "stream",
     "name": "stdout",
     "text": [
      "[ 1.00000000e+00 -2.55208406e-17 -4.00889870e-16 -7.09266694e-16\n",
      "  4.84895971e-16 -2.87109456e-17  3.16883770e-16  5.84852596e-17\n",
      "  5.74218912e-17]\n",
      "[0. 1. 1. 1. 1. 1. 1. 1. 1.]\n"
     ]
    }
   ],
   "metadata": {}
  },
  {
   "cell_type": "markdown",
   "source": [
    "# Linear Regression"
   ],
   "metadata": {}
  },
  {
   "cell_type": "markdown",
   "source": [
    "## Writing the necessary functions"
   ],
   "metadata": {}
  },
  {
   "cell_type": "code",
   "execution_count": 576,
   "source": [
    "def hypothesis(X, theta):\n",
    "    '''\n",
    "    hypothesis function\n",
    "    :param X: Input feature vector\n",
    "    :param theta: parameter vector\n",
    "    :return: hypothesis\n",
    "    '''\n",
    "    return np.dot(X, theta)"
   ],
   "outputs": [],
   "metadata": {}
  },
  {
   "cell_type": "code",
   "execution_count": 577,
   "source": [
    "def error(X, y, theta):\n",
    "    '''\n",
    "    error function\n",
    "    :param X: Input feature vector\n",
    "    :param y: Desired Output vector\n",
    "    :param theta: parameter vector\n",
    "    :return: root mean squared error(RMSE)\n",
    "    '''\n",
    "    m = X.shape[0]\n",
    "    y_ = hypothesis(X, theta)\n",
    "    err = np.sum((y_ - y)**2)\n",
    "    return err / m"
   ],
   "outputs": [],
   "metadata": {}
  },
  {
   "cell_type": "code",
   "execution_count": 578,
   "source": [
    "def gradient(X, y, theta):\n",
    "    '''\n",
    "    gradient function\n",
    "    :param X: Input feature vector\n",
    "    :param y: Desired Output vector\n",
    "    :param theta: parameter vector\n",
    "    :return: gradient vector\n",
    "    '''\n",
    "    m = X.shape[0]\n",
    "    y_ = hypothesis(X, theta)\n",
    "    grad = np.dot(X.T, (y_ - y))\n",
    "    return grad/m"
   ],
   "outputs": [],
   "metadata": {}
  },
  {
   "cell_type": "code",
   "execution_count": 579,
   "source": [
    "def gradientDescent(X, y, learningRate=0.01, maxEpochs=1000):\n",
    "    '''\n",
    "    gradient descent function\n",
    "    :param X: Input feature vector\n",
    "    :param y: Desired Output vector\n",
    "    :param learningRate: learning rate\n",
    "    :param maxEpochs: maximum number of epochs\n",
    "    :return: theta vector and error list\n",
    "    '''\n",
    "    m, n = X.shape\n",
    "    theta = np.zeros((n,))\n",
    "    errorList = []\n",
    "    for i in tqdm(range(maxEpochs)):\n",
    "        err = error(X, y, theta)\n",
    "        errorList.append(err)\n",
    "        grad = gradient(X, y, theta)\n",
    "        theta = theta - learningRate * grad\n",
    "    return theta, errorList"
   ],
   "outputs": [],
   "metadata": {}
  },
  {
   "cell_type": "markdown",
   "source": [
    "## Performing Regression"
   ],
   "metadata": {}
  },
  {
   "cell_type": "code",
   "execution_count": 580,
   "source": [
    "theta, errorList = gradientDescent(X_train, y_train)"
   ],
   "outputs": [
    {
     "output_type": "stream",
     "name": "stderr",
     "text": [
      "100%|██████████| 1000/1000 [00:00<00:00, 1301.09it/s]\n"
     ]
    }
   ],
   "metadata": {}
  },
  {
   "cell_type": "code",
   "execution_count": 581,
   "source": [
    "theta"
   ],
   "outputs": [
    {
     "output_type": "execute_result",
     "data": {
      "text/plain": [
       "array([ 9.97233211,  0.31733203,  0.32654042,  0.65724109,  0.56551242,\n",
       "        0.30388163, -1.80936759, -0.21395661,  1.98911715])"
      ]
     },
     "metadata": {},
     "execution_count": 581
    }
   ],
   "metadata": {}
  },
  {
   "cell_type": "code",
   "execution_count": 582,
   "source": [
    "plt.style.use('seaborn')\n",
    "plt.style.use('ggplot')\n",
    "plt.style.use('dark_background')"
   ],
   "outputs": [],
   "metadata": {}
  },
  {
   "cell_type": "code",
   "execution_count": 611,
   "source": [
    "plt.plot(errorList, 'r-', label='error', linewidth=2)\n",
    "plt.legend()\n",
    "plt.xlabel('epochs')\n",
    "plt.ylabel('error')\n",
    "plt.title('error vs epochs')\n",
    "plt.savefig('plots/Q1_error.png')\n",
    "plt.show()"
   ],
   "outputs": [
    {
     "output_type": "display_data",
     "data": {
      "image/png": "[encoded data removed]",
      "text/plain": [
       "<Figure size 576x396 with 1 Axes>"
      ]
     },
     "metadata": {}
    }
   ],
   "metadata": {}
  },
  {
   "cell_type": "markdown",
   "source": [
    "## Predictions"
   ],
   "metadata": {}
  },
  {
   "cell_type": "code",
   "execution_count": 584,
   "source": [
    "def getPredictionList(X, theta):\n",
    "    '''\n",
    "    get prediction list\n",
    "    :param X: Input feature vector\n",
    "    :param theta: parameter vector\n",
    "    :return: prediction list\n",
    "    '''\n",
    "    y_ = []\n",
    "    for i in tqdm(range(X.shape[0])):\n",
    "        pred = hypothesis(X[i], theta)\n",
    "        y_.append(pred)\n",
    "    y_ = np.array(y_)\n",
    "    return y_"
   ],
   "outputs": [],
   "metadata": {}
  },
  {
   "cell_type": "code",
   "execution_count": 585,
   "source": [
    "def rmse(X, y, theta):\n",
    "    '''\n",
    "    root mean squared error\n",
    "    :param X: Input feature vector\n",
    "    :param y: Desired Output vector\n",
    "    :param theta: parameter vector\n",
    "    :return: root mean squared error(RMSE)\n",
    "    '''\n",
    "    y_ = getPredictionList(X, theta)\n",
    "    return np.sqrt(np.mean((y_ - y)**2).mean())"
   ],
   "outputs": [],
   "metadata": {}
  },
  {
   "cell_type": "code",
   "execution_count": 586,
   "source": [
    "print(\"RMSE on training data: \" + str(rmse(X_train, y_train, theta)))\n",
    "print(\"RMSE on test data: \" + str(rmse(X_test, y_test, theta)))"
   ],
   "outputs": [
    {
     "output_type": "stream",
     "name": "stderr",
     "text": [
      "100%|██████████| 3341/3341 [00:00<00:00, 79225.51it/s]\n",
      "100%|██████████| 836/836 [00:00<00:00, 41062.84it/s]"
     ]
    },
    {
     "output_type": "stream",
     "name": "stdout",
     "text": [
      "RMSE on training data: 2.279332879759095\n",
      "RMSE on test data: 2.219821998097297\n"
     ]
    },
    {
     "output_type": "stream",
     "name": "stderr",
     "text": [
      "\n"
     ]
    }
   ],
   "metadata": {}
  },
  {
   "cell_type": "markdown",
   "source": [
    "# Ridge Regression"
   ],
   "metadata": {}
  },
  {
   "cell_type": "markdown",
   "source": [
    "## Plotting Graph"
   ],
   "metadata": {}
  },
  {
   "cell_type": "code",
   "execution_count": 587,
   "source": [
    "from sklearn.linear_model import Ridge"
   ],
   "outputs": [],
   "metadata": {}
  },
  {
   "cell_type": "code",
   "execution_count": 588,
   "source": [
    "def ridgeRMSE(y, y_):\n",
    "    '''\n",
    "    root mean squared error\n",
    "    :param y: Desired Output vector\n",
    "    :param y_: predicted Output vector\n",
    "    :return: root mean squared error(RMSE)\n",
    "    '''\n",
    "    return np.sqrt(np.mean((y_ - y)**2).mean())"
   ],
   "outputs": [],
   "metadata": {}
  },
  {
   "cell_type": "code",
   "execution_count": 698,
   "source": [
    "# storing the alphas, train errors and test errors\n",
    "alphaList = []\n",
    "trainRMSEList = []\n",
    "testRMSEList = []\n",
    "# Equally Dividing the alphas in 10 intervals between -1 and 5\n",
    "alphas = np.linspace(-1, 5, 10)\n",
    "# Also string the minimum rmse and corresponding alpha and theta for both train and test data\n",
    "minTrainRMSE = np.inf\n",
    "minTrainAlpha = 0\n",
    "minTrainTheta = []\n",
    "minTestRMSE = np.inf\n",
    "minTestAlpha = 0\n",
    "minTestTheta = []\n",
    "for i in tqdm(range(len(alphas))):\n",
    "    # Ridge regression with alpha = alphas[i]\n",
    "    ridgeModel = Ridge(alpha=alphas[i], fit_intercept=True, normalize=False, copy_X=True)\n",
    "    ridgeModel.fit(X_train, y_train)\n",
    "    # get the prediction list on training data\n",
    "    y_ = ridgeModel.predict(X_train)\n",
    "    currTrainRMSE = ridgeRMSE(y_train, y_)\n",
    "    # get the prediction list on test data\n",
    "    y_ = ridgeModel.predict(X_test)\n",
    "    currTestRMSE = ridgeRMSE(y_test, y_)\n",
    "    trainRMSEList.append(currTrainRMSE)\n",
    "    testRMSEList.append(currTestRMSE)\n",
    "    alphaList.append(alphas[i])\n",
    "    if currTrainRMSE < minTrainRMSE:\n",
    "        minTrainRMSE = currTrainRMSE\n",
    "        minTrainAlpha = alphas[i]\n",
    "        minTrainTheta = ridgeModel.coef_\n",
    "    if currTestRMSE < minTestRMSE:\n",
    "        minTestRMSE = currTestRMSE\n",
    "        minTestAlpha = alphas[i]\n",
    "        minTestTheta = ridgeModel.coef_\n",
    "print(\"Minimum RMSE on train: \" + str(minTrainRMSE) + \" for alpha: \" + str(minTrainAlpha) + \" and optimum parameters: \" + str(minTrainTheta))\n",
    "print(\"Minimum RMSE on test: \" + str(minTestRMSE) + \" for alpha: \" +\n",
    "      str(minTestAlpha) + \" and optimum parameters: \" + str(minTestTheta))\n"
   ],
   "outputs": [
    {
     "output_type": "stream",
     "name": "stderr",
     "text": [
      "100%|██████████| 10/10 [00:00<00:00, 41.21it/s]"
     ]
    },
    {
     "output_type": "stream",
     "name": "stdout",
     "text": [
      "Minimum RMSE on train: 2.204470148926996 for alpha: 0.33333333333333326 and optimum parameters: [ 0.          0.30103555 -0.03959001  1.12255539  0.40932199  4.42852419\n",
      " -4.45313265 -1.03359217  1.24530904]\n",
      "Minimum RMSE on test: 2.1726571304502427 for alpha: 2.333333333333333 and optimum parameters: [ 0.          0.30200709 -0.02555882  1.1041071   0.41148058  4.08611562\n",
      " -4.28969515 -0.95373125  1.35709293]\n"
     ]
    },
    {
     "output_type": "stream",
     "name": "stderr",
     "text": [
      "\n"
     ]
    }
   ],
   "metadata": {}
  },
  {
   "cell_type": "code",
   "execution_count": 665,
   "source": [
    "plt.scatter(alphaList, trainRMSEList, c='r', marker='x', label='RMSE')\n",
    "plt.xlabel('alpha')\n",
    "plt.ylabel('RMSE')\n",
    "plt.title('RMSE vs alpha on Training Data for Ridge Regression')\n",
    "plt.legend()\n",
    "plt.savefig('plots/Q1_rmseVsAlphaTrainingDataScatterRidge.png')\n",
    "plt.show()"
   ],
   "outputs": [
    {
     "output_type": "display_data",
     "data": {
      "image/png": "[encoded data removed]",
      "text/plain": [
       "<Figure size 576x396 with 1 Axes>"
      ]
     },
     "metadata": {}
    }
   ],
   "metadata": {}
  },
  {
   "cell_type": "code",
   "execution_count": 699,
   "source": [
    "plt.plot(alphaList, trainRMSEList, 'r-', label='RMSE', linewidth=2)\n",
    "plt.xlabel('alpha')\n",
    "plt.ylabel('RMSE')\n",
    "plt.title('RMSE vs alpha on Training Data for Ridge Regression')\n",
    "plt.legend()\n",
    "plt.savefig('plots/Q1_rmseVsAlphaTrainingDataLineRidge.png')\n",
    "plt.show()"
   ],
   "outputs": [
    {
     "output_type": "display_data",
     "data": {
      "image/png": "[encoded data removed]",
      "text/plain": [
       "<Figure size 576x396 with 1 Axes>"
      ]
     },
     "metadata": {}
    }
   ],
   "metadata": {}
  },
  {
   "cell_type": "code",
   "execution_count": 667,
   "source": [
    "plt.scatter(alphaList, testRMSEList, c='r', marker='x', label='RMSE')\n",
    "plt.xlabel('alpha')\n",
    "plt.ylabel('RMSE')\n",
    "plt.title('RMSE vs alpha on Testing Data for Ridge Regression')\n",
    "plt.legend()\n",
    "plt.savefig('plots/Q1_rmseVsAlphaTestingDataScatterRidge.png')\n",
    "plt.show()"
   ],
   "outputs": [
    {
     "output_type": "display_data",
     "data": {
      "image/png": "[encoded data removed]",
      "text/plain": [
       "<Figure size 576x396 with 1 Axes>"
      ]
     },
     "metadata": {}
    }
   ],
   "metadata": {}
  },
  {
   "cell_type": "code",
   "execution_count": 668,
   "source": [
    "plt.plot(alphaList, testRMSEList, 'r-', label='RMSE', linewidth=2)\n",
    "plt.xlabel('alpha')\n",
    "plt.ylabel('RMSE')\n",
    "plt.title('RMSE vs alpha on Testing Data for Ridge Regression')\n",
    "plt.legend()\n",
    "plt.savefig('plots/Q1_rmseVsAlphaTestingDataLineRidge.png')\n",
    "plt.show()"
   ],
   "outputs": [
    {
     "output_type": "display_data",
     "data": {
      "image/png": "[encoded data removed]",
      "text/plain": [
       "<Figure size 576x396 with 1 Axes>"
      ]
     },
     "metadata": {}
    }
   ],
   "metadata": {}
  },
  {
   "cell_type": "markdown",
   "source": [
    "## Using GridSearchCV to find the best model"
   ],
   "metadata": {}
  },
  {
   "cell_type": "code",
   "execution_count": 669,
   "source": [
    "from sklearn.model_selection import GridSearchCV"
   ],
   "outputs": [],
   "metadata": {}
  },
  {
   "cell_type": "code",
   "execution_count": 670,
   "source": [
    "alphas = np.linspace(-1, 5, 100)"
   ],
   "outputs": [],
   "metadata": {}
  },
  {
   "cell_type": "code",
   "execution_count": 671,
   "source": [
    "ridgeGridModel = Ridge(fit_intercept=True, normalize=False, copy_X=True)"
   ],
   "outputs": [],
   "metadata": {}
  },
  {
   "cell_type": "code",
   "execution_count": 672,
   "source": [
    "ridgeGrid = GridSearchCV(estimator=ridgeGridModel, param_grid={'alpha': alphas})"
   ],
   "outputs": [],
   "metadata": {}
  },
  {
   "cell_type": "code",
   "execution_count": 673,
   "source": [
    "ridgeGrid.fit(X_train, y_train)\n",
    "print(ridgeGrid.best_params_)"
   ],
   "outputs": [
    {
     "output_type": "stream",
     "name": "stdout",
     "text": [
      "{'alpha': 0.5151515151515151}\n"
     ]
    }
   ],
   "metadata": {}
  },
  {
   "cell_type": "markdown",
   "source": [
    "# Lasso Regression"
   ],
   "metadata": {}
  },
  {
   "cell_type": "code",
   "execution_count": 674,
   "source": [
    "from sklearn.linear_model import Lasso"
   ],
   "outputs": [],
   "metadata": {}
  },
  {
   "cell_type": "code",
   "execution_count": 675,
   "source": [
    "def lassoRMSE(y, y_):\n",
    "    '''\n",
    "    root mean squared error\n",
    "    :param y: Desired Output vector\n",
    "    :param y_: predicted Output vector\n",
    "    :return: root mean squared error(RMSE)\n",
    "    '''\n",
    "    return np.sqrt(np.mean((y_ - y)**2).mean())\n"
   ],
   "outputs": [],
   "metadata": {}
  },
  {
   "cell_type": "code",
   "execution_count": 700,
   "source": [
    "# storing the alphas, train errors and test errors\n",
    "alphaList = []\n",
    "trainRMSEList = []\n",
    "testRMSEList = []\n",
    "# Equally Dividing the alphas in 10 intervals between 0.001 and 5\n",
    "alphas = np.linspace(0.001, 5, 10)\n",
    "# Also string the minimum rmse and corresponding alpha and theta for both train and test data\n",
    "minTrainRMSE = np.inf\n",
    "minTrainAlpha = 0\n",
    "minTrainTheta = []\n",
    "minTestRMSE = np.inf\n",
    "minTestAlpha = 0\n",
    "minTestTheta = []\n",
    "for i in tqdm(range(len(alphas))):\n",
    "    # Lasso regression with alpha = alphas[i]\n",
    "    lassoModel = Lasso(alpha=alphas[i], fit_intercept=True, normalize=False, copy_X=True)\n",
    "    lassoModel.fit(X_train, y_train)\n",
    "    # get the prediction list on training data\n",
    "    y_ = lassoModel.predict(X_train)\n",
    "    currTrainRMSE = lassoRMSE(y_train, y_)\n",
    "    # get the prediction list on test data\n",
    "    y_ = lassoModel.predict(X_test)\n",
    "    currTestRMSE = lassoRMSE(y_test, y_)\n",
    "    trainRMSEList.append(currTrainRMSE)\n",
    "    testRMSEList.append(currTestRMSE)\n",
    "    alphaList.append(alphas[i])\n",
    "    if currTrainRMSE < minTrainRMSE:\n",
    "        minTrainRMSE = currTrainRMSE\n",
    "        minTrainAlpha = alphas[i]\n",
    "        minTrainTheta = lassoModel.coef_\n",
    "    if currTestRMSE < minTestRMSE:\n",
    "        minTestRMSE = currTestRMSE\n",
    "        minTestAlpha = alphas[i]\n",
    "        minTestTheta = lassoModel.coef_\n",
    "print(\"Minimum RMSE on train: \" + str(minTrainRMSE) + \" for alpha: \" + str(minTrainAlpha) + \" and optimum parameters: \" + str(minTrainTheta))\n",
    "print(\"Minimum RMSE on test: \" + str(minTestRMSE) + \" for alpha: \" +\n",
    "      str(minTestAlpha) + \" and optimum parameters: \" + str(minTestTheta))\n"
   ],
   "outputs": [
    {
     "output_type": "stream",
     "name": "stderr",
     "text": [
      "100%|██████████| 10/10 [00:00<00:00, 45.49it/s]"
     ]
    },
    {
     "output_type": "stream",
     "name": "stdout",
     "text": [
      "Minimum RMSE on train: 2.2045190015302523 for alpha: 0.001 and optimum parameters: [ 0.          0.30050022 -0.          1.08169883  0.40806419  4.35635215\n",
      " -4.42285461 -1.00708475  1.26537164]\n",
      "Minimum RMSE on test: 2.173205956270856 for alpha: 0.001 and optimum parameters: [ 0.          0.30050022 -0.          1.08169883  0.40806419  4.35635215\n",
      " -4.42285461 -1.00708475  1.26537164]\n"
     ]
    },
    {
     "output_type": "stream",
     "name": "stderr",
     "text": [
      "\n"
     ]
    }
   ],
   "metadata": {}
  },
  {
   "cell_type": "code",
   "execution_count": 694,
   "source": [
    "plt.scatter(alphaList, trainRMSEList, c='r', marker='x', label='RMSE')\n",
    "plt.xlabel('alpha')\n",
    "plt.ylabel('RMSE')\n",
    "plt.title('RMSE vs alpha on Training Data for Lasso Regression')\n",
    "plt.legend()\n",
    "plt.savefig('plots/Q1_rmseVsAlphaTrainingDataScatterLasso.png')\n",
    "plt.show()"
   ],
   "outputs": [
    {
     "output_type": "display_data",
     "data": {
      "image/png": "[encoded data removed]",
      "text/plain": [
       "<Figure size 576x396 with 1 Axes>"
      ]
     },
     "metadata": {}
    }
   ],
   "metadata": {}
  },
  {
   "cell_type": "code",
   "execution_count": 696,
   "source": [
    "plt.plot(alphaList, trainRMSEList, 'r-', label='RMSE', linewidth=2)\n",
    "plt.xlabel('alpha')\n",
    "plt.ylabel('RMSE')\n",
    "plt.title('RMSE vs alpha on Training Data for Lasso Regression')\n",
    "plt.legend()\n",
    "plt.savefig('plots/Q1_rmseVsAlphaTrainingDataLineLasso.png')\n",
    "plt.show()"
   ],
   "outputs": [
    {
     "output_type": "display_data",
     "data": {
      "image/png": "[encoded data removed]",
      "text/plain": [
       "<Figure size 576x396 with 1 Axes>"
      ]
     },
     "metadata": {}
    }
   ],
   "metadata": {}
  },
  {
   "cell_type": "code",
   "execution_count": 697,
   "source": [
    "plt.scatter(alphaList, testRMSEList, c='r', marker='x', label='RMSE')\n",
    "plt.xlabel('alpha')\n",
    "plt.ylabel('RMSE')\n",
    "plt.title('RMSE vs alpha on Testing Data for Lasso Regression')\n",
    "plt.legend()\n",
    "plt.savefig('plots/Q1_rmseVsAlphaTestingDataScatterLasso.png')\n",
    "plt.show()"
   ],
   "outputs": [
    {
     "output_type": "display_data",
     "data": {
      "image/png": "[encoded data removed]",
      "text/plain": [
       "<Figure size 576x396 with 1 Axes>"
      ]
     },
     "metadata": {}
    }
   ],
   "metadata": {}
  },
  {
   "cell_type": "code",
   "execution_count": 701,
   "source": [
    "plt.plot(alphaList, testRMSEList, 'r-', label='RMSE', linewidth=2)\n",
    "plt.xlabel('alpha')\n",
    "plt.ylabel('RMSE')\n",
    "plt.title('RMSE vs alpha on Testing Data for Ridge Regression')\n",
    "plt.legend()\n",
    "plt.savefig('plots/Q1_rmseVsAlphaTestingDataLineRidge.png')\n",
    "plt.show()\n"
   ],
   "outputs": [
    {
     "output_type": "display_data",
     "data": {
      "image/png": "[encoded data removed]",
      "text/plain": [
       "<Figure size 576x396 with 1 Axes>"
      ]
     },
     "metadata": {}
    }
   ],
   "metadata": {}
  },
  {
   "cell_type": "code",
   "execution_count": 702,
   "source": [
    "alphas = np.linspace(0.001, 5, 100)\n"
   ],
   "outputs": [],
   "metadata": {}
  },
  {
   "cell_type": "code",
   "execution_count": 703,
   "source": [
    "lassoGridModel = Lasso(fit_intercept=True, normalize=False, copy_X=True)\n"
   ],
   "outputs": [],
   "metadata": {}
  },
  {
   "cell_type": "code",
   "execution_count": 704,
   "source": [
    "lassoGrid = GridSearchCV(estimator=lassoGridModel,\n",
    "                         param_grid={'alpha': alphas})\n"
   ],
   "outputs": [],
   "metadata": {}
  },
  {
   "cell_type": "code",
   "execution_count": 705,
   "source": [
    "lassoGrid.fit(X_train, y_train)\n",
    "print(lassoGrid.best_params_)\n"
   ],
   "outputs": [
    {
     "output_type": "stream",
     "name": "stdout",
     "text": [
      "{'alpha': 0.001}\n"
     ]
    }
   ],
   "metadata": {}
  },
  {
   "cell_type": "code",
   "execution_count": null,
   "source": [],
   "outputs": [],
   "metadata": {}
  }
 ],
 "metadata": {
  "orig_nbformat": 4,
  "language_info": {
   "name": "python",
   "version": "3.9.1",
   "mimetype": "text/x-python",
   "codemirror_mode": {
    "name": "ipython",
    "version": 3
   },
   "pygments_lexer": "ipython3",
   "nbconvert_exporter": "python",
   "file_extension": ".py"
  },
  "kernelspec": {
   "name": "python3",
   "display_name": "Python 3.9.1 64-bit"
  },
  "interpreter": {
   "hash": "aee8b7b246df8f9039afb4144a1f6fd8d2ca17a180786b69acc140d282b71a49"
  }
 },
 "nbformat": 4,
 "nbformat_minor": 2
}