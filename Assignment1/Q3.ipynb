{
 "cells": [
  {
   "cell_type": "code",
   "execution_count": 25,
   "source": [
    "import pandas as pd\n",
    "import numpy as np\n",
    "import matplotlib.pyplot as plt\n",
    "from tqdm import tqdm\n",
    "from sklearn import metrics\n",
    "from sklearn.metrics import roc_curve, roc_auc_score"
   ],
   "outputs": [],
   "metadata": {}
  },
  {
   "cell_type": "markdown",
   "source": [
    "# Loading the dataset"
   ],
   "metadata": {}
  },
  {
   "cell_type": "code",
   "execution_count": 2,
   "source": [
    "import os\n",
    "import gzip"
   ],
   "outputs": [],
   "metadata": {}
  },
  {
   "cell_type": "code",
   "execution_count": 3,
   "source": [
    "def load_fmnist(path, kind='train'):\n",
    "    \"\"\"Load MNIST data from `path`\"\"\"\n",
    "    labels_path = os.path.join(path,\n",
    "                               '%s-labels-idx1-ubyte.gz'\n",
    "                               % kind)\n",
    "    images_path = os.path.join(path,\n",
    "                               '%s-images-idx3-ubyte.gz'\n",
    "                               % kind)\n",
    "\n",
    "    with gzip.open(labels_path, 'rb') as lbpath:\n",
    "        labels = np.frombuffer(lbpath.read(), dtype=np.uint8,\n",
    "                               offset=8)\n",
    "\n",
    "    with gzip.open(images_path, 'rb') as imgpath:\n",
    "        images = np.frombuffer(imgpath.read(), dtype=np.uint8,\n",
    "                               offset=16).reshape(len(labels), 784)\n",
    "\n",
    "    return images, labels"
   ],
   "outputs": [],
   "metadata": {}
  },
  {
   "cell_type": "code",
   "execution_count": 4,
   "source": [
    "X_train, y_train = load_fmnist('Weights/fashion/', kind='train')\n",
    "X_test, y_test = load_fmnist('Weights/fashion/', kind='t10k')"
   ],
   "outputs": [],
   "metadata": {}
  },
  {
   "cell_type": "code",
   "execution_count": 5,
   "source": [
    "X_train = X_train.copy()\n",
    "y_train = y_train.copy()\n",
    "X_test = X_test.copy()\n",
    "y_test = y_test.copy()"
   ],
   "outputs": [],
   "metadata": {}
  },
  {
   "cell_type": "code",
   "execution_count": 6,
   "source": [
    "print(X_train.shape, y_train.shape)\n",
    "print(X_test.shape, y_test.shape)"
   ],
   "outputs": [
    {
     "output_type": "stream",
     "name": "stdout",
     "text": [
      "(60000, 784) (60000,)\n",
      "(10000, 784) (10000,)\n"
     ]
    }
   ],
   "metadata": {}
  },
  {
   "cell_type": "markdown",
   "source": [
    "# Preprocessing"
   ],
   "metadata": {}
  },
  {
   "cell_type": "markdown",
   "source": [
    "## Pruning the dataset"
   ],
   "metadata": {}
  },
  {
   "cell_type": "code",
   "execution_count": 7,
   "source": [
    "X_train = X_train[np.logical_or(y_train == 1, y_train == 2)]\n",
    "y_train = y_train[np.logical_or(y_train == 1, y_train == 2)]\n",
    "X_test = X_test[np.logical_or(y_test == 1, y_test == 2)]\n",
    "y_test = y_test[np.logical_or(y_test == 1, y_test == 2)]"
   ],
   "outputs": [],
   "metadata": {}
  },
  {
   "cell_type": "code",
   "execution_count": 8,
   "source": [
    "y_train = y_train - 1\n",
    "y_test = y_test - 1"
   ],
   "outputs": [],
   "metadata": {}
  },
  {
   "cell_type": "code",
   "execution_count": 9,
   "source": [
    "X_train.shape, y_train.shape, X_test.shape, y_test.shape"
   ],
   "outputs": [
    {
     "output_type": "execute_result",
     "data": {
      "text/plain": [
       "((12000, 784), (12000,), (2000, 784), (2000,))"
      ]
     },
     "metadata": {},
     "execution_count": 9
    }
   ],
   "metadata": {}
  },
  {
   "cell_type": "markdown",
   "source": [
    "## Binarizing the dataset"
   ],
   "metadata": {}
  },
  {
   "cell_type": "code",
   "execution_count": 10,
   "source": [
    "plt.style.use('seaborn')\n",
    "plt.style.use('ggplot')\n",
    "plt.style.use('dark_background')"
   ],
   "outputs": [],
   "metadata": {}
  },
  {
   "cell_type": "code",
   "execution_count": 11,
   "source": [
    "plt.imshow(X_train[1].reshape(28, 28), cmap='gray')\n",
    "plt.savefig('plots/Q3_image_before_binarizing.png')\n",
    "plt.show()"
   ],
   "outputs": [
    {
     "output_type": "display_data",
     "data": {
      "image/png": "[encoded data removed]",
      "text/plain": [
       "<Figure size 576x396 with 1 Axes>"
      ]
     },
     "metadata": {}
    }
   ],
   "metadata": {}
  },
  {
   "cell_type": "code",
   "execution_count": 12,
   "source": [
    "for i in tqdm(range(len(X_train))):\n",
    "    X_train[i] = X_train[i] > 128\n",
    "    X_train[i] = X_train[i]*255"
   ],
   "outputs": [
    {
     "output_type": "stream",
     "name": "stderr",
     "text": [
      "100%|██████████| 12000/12000 [00:00<00:00, 84223.39it/s]\n"
     ]
    }
   ],
   "metadata": {}
  },
  {
   "cell_type": "code",
   "execution_count": 13,
   "source": [
    "for i in tqdm(range(len(X_test))):\n",
    "    X_test[i] = X_test[i] > 128\n",
    "    X_test[i] = X_test[i]*255\n"
   ],
   "outputs": [
    {
     "output_type": "stream",
     "name": "stderr",
     "text": [
      "100%|██████████| 2000/2000 [00:00<00:00, 51444.60it/s]\n"
     ]
    }
   ],
   "metadata": {}
  },
  {
   "cell_type": "code",
   "execution_count": 14,
   "source": [
    "plt.imshow(X_train[1].reshape(28, 28), cmap='gray')\n",
    "plt.savefig('plots/Q3_image_after_binarizing.png')\n",
    "plt.show()"
   ],
   "outputs": [
    {
     "output_type": "display_data",
     "data": {
      "image/png": "[encoded data removed]",
      "text/plain": [
       "<Figure size 576x396 with 1 Axes>"
      ]
     },
     "metadata": {}
    }
   ],
   "metadata": {}
  },
  {
   "cell_type": "code",
   "execution_count": 15,
   "source": [
    "np.unique(y_train)"
   ],
   "outputs": [
    {
     "output_type": "execute_result",
     "data": {
      "text/plain": [
       "array([0, 1], dtype=uint8)"
      ]
     },
     "metadata": {},
     "execution_count": 15
    }
   ],
   "metadata": {}
  },
  {
   "cell_type": "markdown",
   "source": [
    "# Naïve Bayes"
   ],
   "metadata": {}
  },
  {
   "cell_type": "markdown",
   "source": [
    "## Calculating prior probabilities and conditional probabilities"
   ],
   "metadata": {}
  },
  {
   "cell_type": "code",
   "execution_count": 16,
   "source": [
    "def priorProb(y, label):\n",
    "    '''\n",
    "    Returns the prior probability of a given label\n",
    "    :param y: the label vector\n",
    "    :param label: the label\n",
    "    :return: the prior probability\n",
    "    '''\n",
    "    totalExamples = y.shape[0]\n",
    "    classExamples = np.sum(y == label)\n",
    "    return classExamples/float(totalExamples)"
   ],
   "outputs": [],
   "metadata": {}
  },
  {
   "cell_type": "code",
   "execution_count": 17,
   "source": [
    "def conditional_prob(X_train, y_train, label, featureName, featureValue):\n",
    "    '''\n",
    "    Returns the conditional probability of a feature given a label\n",
    "    :param X_train: the training data\n",
    "    :param y_train: the training labels\n",
    "    :param label: the label\n",
    "    :param featureName: the name of the feature\n",
    "    :param featureValue: the value of the feature\n",
    "    :return: the conditional probability of the feature given the label\n",
    "    '''\n",
    "    X_filtered = X_train[y_train == label]\n",
    "    numerator = np.sum(X_filtered[:, featureName] == featureValue)\n",
    "    denominator = np.sum(y_train == label)\n",
    "    return (numerator + 1) / (float(denominator) + 2)"
   ],
   "outputs": [],
   "metadata": {}
  },
  {
   "cell_type": "code",
   "execution_count": 18,
   "source": [
    "def trainModel(X_train, y_train):\n",
    "    '''\n",
    "    Trains a model using the training data\n",
    "    :param X_train: the training data\n",
    "    :param y_train: the training labels\n",
    "    :return: priorProbabilities of the classes and the conditional probability of all the scenarios\n",
    "    '''\n",
    "    n_features = X_train.shape[1]\n",
    "    classes = np.unique(y_train)\n",
    "    n_classes = len(classes)\n",
    "    # Getting the class prior probabilities\n",
    "    classProb = np.zeros(n_classes)\n",
    "    for label in classes:\n",
    "        classProb[int(label)] = priorProb(y_train, label)\n",
    "    featureVals = np.array([0,255])\n",
    "    n_featureVals = len(featureVals)\n",
    "    condProb = np.zeros((n_classes, n_features, n_featureVals))\n",
    "    # getting the conditional probabilities\n",
    "    for label in classes:\n",
    "        for feature in range(n_features):\n",
    "            for featureValue in featureVals:\n",
    "                condProb[int(label), int(feature), int(featureValue//255)] = conditional_prob(X_train, y_train, label, feature, featureValue)\n",
    "    return classProb, condProb\n"
   ],
   "outputs": [],
   "metadata": {}
  },
  {
   "cell_type": "code",
   "execution_count": 19,
   "source": [
    "def predict(X_train, y_train, x_test, condProb, classProb):\n",
    "    '''\n",
    "    Predicts the labels of the test data\n",
    "    :param X_train: the training data\n",
    "    :param y_train: the training labels\n",
    "    :param x_test: the test data\n",
    "    :param condProb: the conditional probability of all the scenarios\n",
    "    :param classProb: the prior probability of the classes\n",
    "    :return: the predicted labels\n",
    "    '''\n",
    "    # x_test is a single testing point with n features\n",
    "    n_features = X_train.shape[1]\n",
    "    classes = np.unique(y_train)\n",
    "    posteriorProb = []\n",
    "    # Compute posterior probabilities for each class\n",
    "    for label in classes:\n",
    "        likelihood = 1.0\n",
    "        for feature in range(n_features):\n",
    "            conditional_prob = condProb[int(label), int(feature), int(x_test[feature]//255)]\n",
    "            likelihood *= conditional_prob\n",
    "        prior_prob = classProb[int(label)]\n",
    "        prob = likelihood * prior_prob\n",
    "        posteriorProb.append(prob)\n",
    "    pred = np.argmax(posteriorProb)\n",
    "    return pred"
   ],
   "outputs": [],
   "metadata": {}
  },
  {
   "cell_type": "code",
   "execution_count": 20,
   "source": [
    "def score(X_train, y_train, X_test, y_test, condProb, classProb):\n",
    "    '''\n",
    "    Computes the accuracy of the model\n",
    "    :param X_train: the training data\n",
    "    :param y_train: the training labels\n",
    "    :param X_test: the test data\n",
    "    :param y_test: the test labels\n",
    "    :param condProb: the conditional probability of all the scenarios\n",
    "    :param classProb: the prior probability of the classes\n",
    "    :return: the accuracy over the test data\n",
    "    '''\n",
    "    pred = []\n",
    "    for i in tqdm(range(X_test.shape[0])):\n",
    "        pred.append(predict(X_train, y_train, X_test[i], condProb, classProb))\n",
    "    pred = np.array(pred)\n",
    "    accuracy = np.sum(pred == y_test) / float(y_test.shape[0])\n",
    "    return accuracy*100"
   ],
   "outputs": [],
   "metadata": {}
  },
  {
   "cell_type": "code",
   "execution_count": 26,
   "source": [
    "def printROC(X_train, y_train, X_test, y_test, condProb, classProb):\n",
    "    pred = []\n",
    "    for i in tqdm(range(X_test.shape[0])):\n",
    "        pred.append(predict(X_train, y_train, X_test[i], condProb, classProb))\n",
    "    pred = np.array(pred)\n",
    "    fpt, tpt, thr = roc_curve(y_test, pred)\n",
    "    plt.plot(fpt, tpt)\n",
    "    print(roc_auc_score(y_test, pred))\n"
   ],
   "outputs": [],
   "metadata": {}
  },
  {
   "cell_type": "code",
   "execution_count": 23,
   "source": [
    "# Training the model\n",
    "classProb, conditionalProb = trainModel(X_train, y_train)"
   ],
   "outputs": [],
   "metadata": {}
  },
  {
   "cell_type": "code",
   "execution_count": 27,
   "source": [
    "printROC(X_train, y_train, X_test, y_test, conditionalProb, classProb)"
   ],
   "outputs": [
    {
     "output_type": "stream",
     "name": "stderr",
     "text": [
      "100%|██████████| 2000/2000 [00:18<00:00, 110.90it/s]\n"
     ]
    },
    {
     "output_type": "stream",
     "name": "stdout",
     "text": [
      "0.9315\n"
     ]
    },
    {
     "output_type": "display_data",
     "data": {
      "image/png": "[encoded data removed]",
      "text/plain": [
       "<Figure size 576x396 with 1 Axes>"
      ]
     },
     "metadata": {}
    }
   ],
   "metadata": {}
  },
  {
   "cell_type": "code",
   "execution_count": 30,
   "source": [
    "# Getting the accuracy on test set\n",
    "print(score(X_train, y_train, X_test, y_test, conditionalProb, classProb))"
   ],
   "outputs": [
    {
     "output_type": "stream",
     "name": "stderr",
     "text": [
      "100%|██████████| 2000/2000 [00:19<00:00, 105.05it/s]"
     ]
    },
    {
     "output_type": "stream",
     "name": "stdout",
     "text": [
      "93.15\n"
     ]
    },
    {
     "output_type": "stream",
     "name": "stderr",
     "text": [
      "\n"
     ]
    }
   ],
   "metadata": {}
  },
  {
   "cell_type": "markdown",
   "source": [
    "# K-Fold cross validation"
   ],
   "metadata": {}
  },
  {
   "cell_type": "code",
   "execution_count": 31,
   "source": [
    "K = 5"
   ],
   "outputs": [],
   "metadata": {}
  },
  {
   "cell_type": "code",
   "execution_count": 32,
   "source": [
    "X_train.shape, y_train.shape"
   ],
   "outputs": [
    {
     "output_type": "execute_result",
     "data": {
      "text/plain": [
       "((12000, 784), (12000,))"
      ]
     },
     "metadata": {},
     "execution_count": 32
    }
   ],
   "metadata": {}
  },
  {
   "cell_type": "code",
   "execution_count": 33,
   "source": [
    "fullTrainData = np.hstack((X_train, y_train.reshape(-1, 1)))"
   ],
   "outputs": [],
   "metadata": {}
  },
  {
   "cell_type": "code",
   "execution_count": 34,
   "source": [
    "fullTrainData.shape, X_train.shape, y_train.shape"
   ],
   "outputs": [
    {
     "output_type": "execute_result",
     "data": {
      "text/plain": [
       "((12000, 785), (12000, 784), (12000,))"
      ]
     },
     "metadata": {},
     "execution_count": 34
    }
   ],
   "metadata": {}
  },
  {
   "cell_type": "code",
   "execution_count": 35,
   "source": [
    "type(fullTrainData)"
   ],
   "outputs": [
    {
     "output_type": "execute_result",
     "data": {
      "text/plain": [
       "numpy.ndarray"
      ]
     },
     "metadata": {},
     "execution_count": 35
    }
   ],
   "metadata": {}
  },
  {
   "cell_type": "code",
   "execution_count": 36,
   "source": [
    "np.random.shuffle(fullTrainData)"
   ],
   "outputs": [],
   "metadata": {}
  },
  {
   "cell_type": "code",
   "execution_count": 37,
   "source": [
    "batchSize = fullTrainData.shape[0] // K\n",
    "batchSize"
   ],
   "outputs": [
    {
     "output_type": "execute_result",
     "data": {
      "text/plain": [
       "2400"
      ]
     },
     "metadata": {},
     "execution_count": 37
    }
   ],
   "metadata": {}
  },
  {
   "cell_type": "code",
   "execution_count": 38,
   "source": [
    "X_train_k = []\n",
    "y_train_k = []\n",
    "for i in range(K):\n",
    "    tempTrain = fullTrainData[i*batchSize:(i+1)*batchSize, :-1]\n",
    "    tempTest = fullTrainData[i*batchSize:(i+1)*batchSize, -1]\n",
    "    X_train_k.append(tempTrain)\n",
    "    y_train_k.append(tempTest)"
   ],
   "outputs": [],
   "metadata": {}
  },
  {
   "cell_type": "code",
   "execution_count": 39,
   "source": [
    "X_train_k[0].shape, y_train_k[0].shape"
   ],
   "outputs": [
    {
     "output_type": "execute_result",
     "data": {
      "text/plain": [
       "((2400, 784), (2400,))"
      ]
     },
     "metadata": {},
     "execution_count": 39
    }
   ],
   "metadata": {}
  },
  {
   "cell_type": "code",
   "execution_count": 40,
   "source": [
    "len(X_train_k)"
   ],
   "outputs": [
    {
     "output_type": "execute_result",
     "data": {
      "text/plain": [
       "5"
      ]
     },
     "metadata": {},
     "execution_count": 40
    }
   ],
   "metadata": {}
  },
  {
   "cell_type": "code",
   "execution_count": 41,
   "source": [
    "type(y_train)"
   ],
   "outputs": [
    {
     "output_type": "execute_result",
     "data": {
      "text/plain": [
       "numpy.ndarray"
      ]
     },
     "metadata": {},
     "execution_count": 41
    }
   ],
   "metadata": {}
  },
  {
   "cell_type": "code",
   "execution_count": 42,
   "source": [
    "validationAccuracies = []\n",
    "testAccuracies = []\n",
    "for i in range(K):\n",
    "    temp_x_test = X_train_k[i]\n",
    "    temp_y_test = y_train_k[i]\n",
    "    temp_x_train = np.vstack(X_train_k[:i] + X_train_k[i+1:])\n",
    "    temp_y_train = np.empty((0,))\n",
    "    for j in range(K):\n",
    "        if j!=i:\n",
    "            temp_y_train = np.concatenate((temp_y_train, y_train_k[j]), axis=0)\n",
    "    temp_y_train = np.array(temp_y_train)\n",
    "    classProb, conditionalProb = trainModel(temp_x_train, temp_y_train)\n",
    "    validationAccuracy = score(temp_x_train, temp_y_train, temp_x_test, temp_y_test, conditionalProb, classProb)\n",
    "    testAccuracy = score(temp_x_train, temp_y_train, X_test, y_test, conditionalProb, classProb)\n",
    "    print(str(i) + ' validation ' + str(validationAccuracy))\n",
    "    print(str(i) + ' test :' + str(testAccuracy) )\n",
    "    validationAccuracies.append(validationAccuracy)\n",
    "    testAccuracies.append(testAccuracy)\n"
   ],
   "outputs": [
    {
     "output_type": "stream",
     "name": "stderr",
     "text": [
      "100%|██████████| 2400/2400 [00:27<00:00, 87.50it/s] \n",
      "100%|██████████| 2000/2000 [00:18<00:00, 107.97it/s]\n"
     ]
    },
    {
     "output_type": "stream",
     "name": "stdout",
     "text": [
      "0 validation 92.33333333333333\n",
      "0 test :93.10000000000001\n"
     ]
    },
    {
     "output_type": "stream",
     "name": "stderr",
     "text": [
      "100%|██████████| 2400/2400 [00:17<00:00, 136.99it/s]\n",
      "100%|██████████| 2000/2000 [00:18<00:00, 106.78it/s]\n"
     ]
    },
    {
     "output_type": "stream",
     "name": "stdout",
     "text": [
      "1 validation 93.375\n",
      "1 test :93.30000000000001\n"
     ]
    },
    {
     "output_type": "stream",
     "name": "stderr",
     "text": [
      "100%|██████████| 2400/2400 [00:17<00:00, 135.36it/s]\n",
      "100%|██████████| 2000/2000 [00:17<00:00, 114.27it/s]\n"
     ]
    },
    {
     "output_type": "stream",
     "name": "stdout",
     "text": [
      "2 validation 92.95833333333333\n",
      "2 test :93.30000000000001\n"
     ]
    },
    {
     "output_type": "stream",
     "name": "stderr",
     "text": [
      "100%|██████████| 2400/2400 [00:19<00:00, 124.53it/s]\n",
      "100%|██████████| 2000/2000 [00:27<00:00, 74.07it/s]\n"
     ]
    },
    {
     "output_type": "stream",
     "name": "stdout",
     "text": [
      "3 validation 92.625\n",
      "3 test :93.10000000000001\n"
     ]
    },
    {
     "output_type": "stream",
     "name": "stderr",
     "text": [
      "100%|██████████| 2400/2400 [00:49<00:00, 48.36it/s]\n",
      "100%|██████████| 2000/2000 [00:26<00:00, 76.69it/s] "
     ]
    },
    {
     "output_type": "stream",
     "name": "stdout",
     "text": [
      "4 validation 93.66666666666667\n",
      "4 test :93.15\n"
     ]
    },
    {
     "output_type": "stream",
     "name": "stderr",
     "text": [
      "\n"
     ]
    }
   ],
   "metadata": {}
  },
  {
   "cell_type": "code",
   "execution_count": 43,
   "source": [
    "avgValidation = sum(validationAccuracies) / float(len(validationAccuracies))\n",
    "avgTest = sum(testAccuracies) / float(len(testAccuracies))"
   ],
   "outputs": [],
   "metadata": {}
  },
  {
   "cell_type": "code",
   "execution_count": 44,
   "source": [
    "print('Average validation accuracy: ' + str(avgValidation))\n",
    "print('Average test accuracy: ' + str(avgTest))"
   ],
   "outputs": [
    {
     "output_type": "stream",
     "name": "stdout",
     "text": [
      "Average validation accuracy: 92.99166666666666\n",
      "Average test accuracy: 93.19000000000001\n"
     ]
    }
   ],
   "metadata": {}
  },
  {
   "cell_type": "markdown",
   "source": [
    "# Confusion Matrix and ROC Curve"
   ],
   "metadata": {}
  },
  {
   "cell_type": "code",
   "execution_count": 53,
   "source": [
    "def getConfusionMatrix(X_train, y_train, X_test, y_test):  \n",
    "    '''\n",
    "    Computes the confusion matrix, Accuracy, Precision, Recall and F1 score\n",
    "    :param X_train: the training data\n",
    "    :param y_train: the training labels\n",
    "    :param X_test: the test data\n",
    "    :param y_test: the test labels\n",
    "    :return: None\n",
    "    '''\n",
    "    # training the model\n",
    "    classProb, condProb = trainModel(X_train, y_train)\n",
    "\n",
    "    # getting predictions\n",
    "    pred = []\n",
    "    for i in tqdm(range(X_test.shape[0])):\n",
    "        pred.append(predict(X_train, y_train, X_test[i], condProb, classProb))\n",
    "    y_ = np.array(pred)\n",
    "\n",
    "    # computing confusion matrix\n",
    "    confusionMatrix = np.zeros((2, 2))\n",
    "    for i in range(y_test.shape[0]):\n",
    "        confusionMatrix[int(y_test[i]), int(y_[i])] += 1\n",
    "\n",
    "    # computing accuracy, precision, recall and f1 score\n",
    "    accuracy = (confusionMatrix[0, 0] +\n",
    "                confusionMatrix[1, 1]) / np.sum(confusionMatrix)\n",
    "    precision = (confusionMatrix[1, 1]) / confusionMatrix[:, 1].sum()\n",
    "    recall = (confusionMatrix[1, 1]) / confusionMatrix[1, :].sum()\n",
    "    f1 = 2 * precision * recall / (precision + recall)\n",
    "    print(confusionMatrix)\n",
    "    print('Accuracy: ' + str(accuracy))\n",
    "    print('Precision: ' + str(precision))\n",
    "    print('Recall: ' + str(recall))\n",
    "    print('F1: ' + str(f1))\n"
   ],
   "outputs": [],
   "metadata": {}
  },
  {
   "cell_type": "code",
   "execution_count": 54,
   "source": [
    "# Confusion matrix of the format: \n",
    "# [[(actual 0 and predicted 0), (actual 0 and predicted 1)],\n",
    "#  [(actual 1 and predicted 0), (actual 1 and predicted 1)]]\n",
    "getConfusionMatrix(X_train, y_train, X_test, y_test)"
   ],
   "outputs": [
    {
     "output_type": "stream",
     "name": "stderr",
     "text": [
      "100%|██████████| 2000/2000 [00:17<00:00, 113.70it/s]"
     ]
    },
    {
     "output_type": "stream",
     "name": "stdout",
     "text": [
      "[[964.  36.]\n",
      " [101. 899.]]\n",
      "Accuracy: 0.9315\n",
      "Precision: 0.9614973262032086\n",
      "Recall: 0.899\n",
      "F1: 0.9291989664082687\n"
     ]
    },
    {
     "output_type": "stream",
     "name": "stderr",
     "text": [
      "\n"
     ]
    }
   ],
   "metadata": {}
  },
  {
   "cell_type": "code",
   "execution_count": 28,
   "source": [
    "from sklearn.naive_bayes import BernoulliNB\n",
    "from sklearn.metrics import roc_curve, auc"
   ],
   "outputs": [],
   "metadata": {}
  },
  {
   "cell_type": "code",
   "execution_count": 29,
   "source": [
    "bnb = BernoulliNB()"
   ],
   "outputs": [],
   "metadata": {}
  },
  {
   "cell_type": "code",
   "execution_count": null,
   "source": [],
   "outputs": [],
   "metadata": {}
  },
  {
   "cell_type": "code",
   "execution_count": 30,
   "source": [
    "bnb.fit(X_train, y_train)\n",
    "y_bnb_score = bnb.predict_proba(X_test)"
   ],
   "outputs": [],
   "metadata": {}
  },
  {
   "cell_type": "code",
   "execution_count": 35,
   "source": [
    "print(bnb.score(X_test, y_test))"
   ],
   "outputs": [
    {
     "output_type": "stream",
     "name": "stdout",
     "text": [
      "0.932\n"
     ]
    }
   ],
   "metadata": {}
  },
  {
   "cell_type": "code",
   "execution_count": 31,
   "source": [
    "fpr_bnb, tpr_bnb, _ = roc_curve(y_test, y_bnb_score[:, 1])"
   ],
   "outputs": [],
   "metadata": {}
  },
  {
   "cell_type": "code",
   "execution_count": 34,
   "source": [
    "plt.plot(fpr_bnb, tpr_bnb)\n",
    "print(roc_auc_score(y_test, y_bnb_score[:, 1]))\n",
    "# print(roc_auc_score(y_test, pred))"
   ],
   "outputs": [
    {
     "output_type": "stream",
     "name": "stdout",
     "text": [
      "0.97709\n"
     ]
    },
    {
     "output_type": "display_data",
     "data": {
      "image/png": "[encoded data removed]",
      "text/plain": [
       "<Figure size 576x396 with 1 Axes>"
      ]
     },
     "metadata": {}
    }
   ],
   "metadata": {}
  },
  {
   "cell_type": "code",
   "execution_count": 36,
   "source": [
    "y_bnb_score[:10]"
   ],
   "outputs": [
    {
     "output_type": "execute_result",
     "data": {
      "text/plain": [
       "array([[5.92856496e-302, 1.00000000e+000],\n",
       "       [1.00000000e+000, 1.67904714e-121],\n",
       "       [1.00000000e+000, 9.81011624e-114],\n",
       "       [1.00000000e+000, 2.46830506e-079],\n",
       "       [1.00000000e+000, 8.32767462e-099],\n",
       "       [3.31541459e-049, 1.00000000e+000],\n",
       "       [0.00000000e+000, 1.00000000e+000],\n",
       "       [1.00000000e+000, 9.41525412e-130],\n",
       "       [1.00000000e+000, 1.10688246e-110],\n",
       "       [2.73493633e-305, 1.00000000e+000]])"
      ]
     },
     "metadata": {},
     "execution_count": 36
    }
   ],
   "metadata": {}
  },
  {
   "cell_type": "code",
   "execution_count": 39,
   "source": [
    "pred = []\n",
    "classProb, condProb = trainModel(X_train, y_train)\n",
    "\n",
    "for i in tqdm(range(X_test.shape[0])):\n",
    "    pred.append(predict(X_train, y_train, X_test[i], condProb, classProb))\n",
    "    y_ = np.array(pred)\n"
   ],
   "outputs": [
    {
     "output_type": "stream",
     "name": "stderr",
     "text": [
      "100%|██████████| 2000/2000 [00:25<00:00, 78.75it/s] \n"
     ]
    }
   ],
   "metadata": {}
  },
  {
   "cell_type": "code",
   "execution_count": null,
   "source": [],
   "outputs": [],
   "metadata": {}
  }
 ],
 "metadata": {
  "orig_nbformat": 4,
  "language_info": {
   "name": "python",
   "version": "3.9.1",
   "mimetype": "text/x-python",
   "codemirror_mode": {
    "name": "ipython",
    "version": 3
   },
   "pygments_lexer": "ipython3",
   "nbconvert_exporter": "python",
   "file_extension": ".py"
  },
  "kernelspec": {
   "name": "python3",
   "display_name": "Python 3.9.1 64-bit"
  },
  "interpreter": {
   "hash": "aee8b7b246df8f9039afb4144a1f6fd8d2ca17a180786b69acc140d282b71a49"
  }
 },
 "nbformat": 4,
 "nbformat_minor": 2
}