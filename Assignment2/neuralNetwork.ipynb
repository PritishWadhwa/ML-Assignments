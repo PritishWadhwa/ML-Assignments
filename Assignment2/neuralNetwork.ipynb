{
 "cells": [
  {
   "cell_type": "code",
   "execution_count": 35,
   "metadata": {},
   "outputs": [],
   "source": [
    "import numpy as np\n",
    "import matplotlib.pyplot as plt\n",
    "import pandas as pd\n",
    "from tqdm import tqdm\n",
    "plt.style.use('ggplot')\n",
    "plt.style.use('seaborn')\n",
    "plt.style.use('dark_background')"
   ]
  },
  {
   "cell_type": "code",
   "execution_count": 18,
   "metadata": {},
   "outputs": [],
   "source": [
    "class MyNeuralNetwork:\n",
    "    def __init__(self, N_inputs, N_outputs, N_layers=2, Layer_sizes=[10, 5], activation=\"sigmoid\", learning_rate=0.1, weight_init=\"random\", batch_size=1, num_epochs=200):\n",
    "        \"\"\"\n",
    "        N_inputs: input size\n",
    "        N_outputs: outputs size\n",
    "        N_layers: number of hidden layers\n",
    "        Layer_sizes: list of hidden layer sizes\n",
    "        activation: activation function to be used (ReLu, Leaky ReLu, sigmoid, linear, tanh, softmax)\n",
    "        learning_rate: learning rate\n",
    "        weight_init: weight initialization (zero, random, normal)\n",
    "        batch_size: batch size\n",
    "        num_epochs: number of epochs\n",
    "        \"\"\"\n",
    "        self.N_inputs = N_inputs\n",
    "        self.N_outputs = N_outputs\n",
    "        self.N_layers = N_layers\n",
    "        self.Layer_sizes = Layer_sizes\n",
    "        self.activation = activation\n",
    "        self.learning_rate = learning_rate\n",
    "        self.weight_init = weight_init\n",
    "        self.batch_size = batch_size\n",
    "        self.num_epochs = num_epochs\n",
    "        np.random.seed(0)\n",
    "\n",
    "        model = {}\n",
    "        if weight_init == \"zero\":\n",
    "            model['W1'] = np.zeros((N_inputs, Layer_sizes[0]))\n",
    "            model['b1'] = np.zeros((1, Layer_sizes[0]))\n",
    "            for i in range(1, N_layers):\n",
    "                model['W' + str(i+1)] = np.zeros((Layer_sizes[i-1], Layer_sizes[i]))\n",
    "                model['b' + str(i+1)] = np.zeros((1, Layer_sizes[i]))\n",
    "            model['W' + str(N_layers+1)] = np.zeros((Layer_sizes[-1], N_outputs))\n",
    "            model['b' + str(N_layers+1)] = np.zeros((1, N_outputs))\n",
    "        elif weight_init == \"random\":\n",
    "            model['W1'] = np.random.randn(N_inputs, Layer_sizes[0])*0.01\n",
    "            model['b1'] = np.zeros((1, Layer_sizes[0]))\n",
    "            for i in range(1, N_layers):\n",
    "                model['W' + str(i+1)] = np.random.randn(Layer_sizes[i-1],Layer_sizes[i])*0.01\n",
    "                model['b' + str(i+1)] = np.zeros((1, Layer_sizes[i]))\n",
    "            model['W' + str(N_layers+1)\n",
    "                  ] = np.random.randn(Layer_sizes[-1], N_outputs)*0.01\n",
    "            model['b' + str(N_layers+1)] = np.zeros((1, N_outputs))\n",
    "        elif weight_init == \"normal\":\n",
    "            model['W1'] = np.random.normal(0, 1, (N_inputs, Layer_sizes[0]))*0.01\n",
    "            model['b1'] = np.zeros((1, Layer_sizes[0]))\n",
    "            for i in range(1, N_layers):\n",
    "                model['W' + str(i+1)] = np.random.normal(0, 1, (Layer_sizes[i-1], Layer_sizes[i]))*0.01\n",
    "                model['b' + str(i+1)] = np.zeros((1, Layer_sizes[i]))\n",
    "            model['W' + str(N_layers+1)] = np.random.normal(0, 1, (Layer_sizes[-1], N_outputs))*0.01\n",
    "            model['b' + str(N_layers+1)] = np.zeros((1, N_outputs))\n",
    "        else:\n",
    "            print(\"Invalid weight initialization\")\n",
    "            return\n",
    "\n",
    "        self.model = model\n",
    "        self.activationOutputs = None\n",
    "\n",
    "    def relu_forward(self, X):\n",
    "        \"\"\"\n",
    "        ReLu activation function for forward propagation\n",
    "        X: input\n",
    "        return: output after applying the relu function\n",
    "        \"\"\"\n",
    "        return np.maximum(X, 0)\n",
    "\n",
    "    def relu_backward(self, X):\n",
    "        \"\"\"\n",
    "        ReLu activation function for backpropagation\n",
    "        X: input\n",
    "        return: output after applying the gradient of relu function\n",
    "        \"\"\"\n",
    "        return np.where(X > 0, 1, 0)\n",
    "\n",
    "    def leaky_relu_forward(self, X):\n",
    "        \"\"\"\n",
    "        Leaky ReLu activation function\n",
    "        X: input\n",
    "        return: output after applying the Leaky ReLu function\n",
    "        \"\"\"\n",
    "        return np.maximum(X, 0.01*X)\n",
    "\n",
    "    def leaky_relu_backward(self, X):\n",
    "        \"\"\"\n",
    "        Leaky ReLu activation function\n",
    "        X: input\n",
    "        return: output after applying the gradient of Leaky ReLu function\n",
    "        \"\"\"\n",
    "        return np.where(X > 0, 1, 0.01)\n",
    "\n",
    "    def sigmoid_forward(self, X):\n",
    "        \"\"\"\n",
    "        Sigmoid activation function\n",
    "        X: input\n",
    "        return: output after applying the sigmoid function\n",
    "        \"\"\"\n",
    "        return 1/(1+np.exp(-X))\n",
    "\n",
    "    def sigmoid_backward(self, X):\n",
    "        \"\"\"\n",
    "        Sigmoid activation function\n",
    "        X: input\n",
    "        return: output after applying the gradient of sigmoid function\n",
    "        \"\"\"\n",
    "        return self.sigmoid_forward(X)*(1-self.sigmoid_forward(X))\n",
    "        # return X*(1-X)\n",
    "\n",
    "    def linear_forward(self, X):\n",
    "        \"\"\"\n",
    "        Linear activation function\n",
    "        X: input\n",
    "        return: output after applying the linear function\n",
    "        \"\"\"\n",
    "        return X\n",
    "\n",
    "    def linear_backward(self, X):\n",
    "        \"\"\"\n",
    "        Linear activation function\n",
    "        X: input\n",
    "        return: output after applying the gradient of linear function\n",
    "        \"\"\"\n",
    "        return np.ones(X.shape)\n",
    "\n",
    "    def tanh_forward(self, X):\n",
    "        \"\"\"\n",
    "        Tanh activation function\n",
    "        X: input\n",
    "        return: output after applying the tanh function\n",
    "        \"\"\"\n",
    "        return (np.exp(X)-np.exp(-X))/(np.exp(X)+np.exp(-X))\n",
    "        # return np.tanh(X)\n",
    "\n",
    "    def tanh_backward(self, X):\n",
    "        \"\"\"\n",
    "        Tanh activation function\n",
    "        X: input\n",
    "        return: output after applying the gradient of tanh function\n",
    "        \"\"\"\n",
    "        return 1-(self.tanh_forward(X)**2)\n",
    "        # return 1-X**2\n",
    "\n",
    "    def softmax_forward(self, X):\n",
    "        \"\"\"\n",
    "        Softmax activation function\n",
    "        X: input\n",
    "        return: output after applying the softmax function\n",
    "        \"\"\"\n",
    "        exp = np.exp(X - np.max(X))\n",
    "        return exp/np.sum(exp, axis=1, keepdims=True)\n",
    "\n",
    "    def softmax_backward_actual(self, X):\n",
    "        \"\"\"\n",
    "        Softmax activation function\n",
    "        X: input\n",
    "        return: output after applying the gradient of softmax function\n",
    "        \"\"\"\n",
    "        s = self.softmax_forward(X).reshape(-1, 1)\n",
    "        return np.diagflat(s) - np.dot(s, s.T)\n",
    "\n",
    "    def softmax_backward(self, X):\n",
    "        \"\"\"\n",
    "        Softmax activation function\n",
    "        X: input\n",
    "        return: output after applying the gradient of softmax function\n",
    "        \"\"\"\n",
    "        return self.softmax_forward(X)*(1-self.softmax_forward(X))\n",
    "\n",
    "    def forward(self, X):\n",
    "        \"\"\"\n",
    "        Forward propagation\n",
    "        X: input\n",
    "        return: output after applying the activation function\n",
    "        \"\"\"\n",
    "        if self.activation == \"relu\":\n",
    "            currentActivationFuntion = self.relu_forward\n",
    "        elif self.activation == \"leaky_relu\":\n",
    "            currentActivationFuntion = self.leaky_relu_forward\n",
    "        elif self.activation == \"sigmoid\":\n",
    "            currentActivationFuntion = self.sigmoid_forward\n",
    "        elif self.activation == \"linear\":\n",
    "            currentActivationFuntion = self.linear_forward\n",
    "        elif self.activation == \"tanh\":\n",
    "            currentActivationFuntion = self.tanh_forward\n",
    "        elif self.activation == \"softmax\":\n",
    "            currentActivationFuntion = self.softmax_forward\n",
    "        else:\n",
    "            raise ValueError(\"Invalid activation function\")\n",
    "\n",
    "        self.activationOutputs = {}\n",
    "\n",
    "        self.activationOutputs['Z1'] = np.dot(X, self.model['W1']) + self.model['b1']\n",
    "        self.activationOutputs['A1'] = currentActivationFuntion(self.activationOutputs['Z1'])\n",
    "        # self.activationOutputs['A1'] = np.tanh(self.activationOutputs['Z1'])\n",
    "\n",
    "        for i in range(2, self.N_layers+1):\n",
    "            self.activationOutputs['Z' + str(i)] = np.dot(self.activationOutputs['A' + str(i-1)], self.model['W' + str(i)]) + self.model['b' + str(i)]\n",
    "            self.activationOutputs['A' + str(i)] = currentActivationFuntion(self.activationOutputs['Z' + str(i)])\n",
    "\n",
    "        self.activationOutputs['Z' + str(self.N_layers+1)] = np.dot(self.activationOutputs['A' + str(\n",
    "            self.N_layers)], self.model['W' + str(self.N_layers+1)]) + self.model['b' + str(self.N_layers+1)]\n",
    "        self.activationOutputs['A' + str(self.N_layers+1)] = currentActivationFuntion(\n",
    "            self.activationOutputs['Z' + str(self.N_layers+1)])\n",
    "\n",
    "        return self.activationOutputs['A' + str(self.N_layers+1)]\n",
    "\n",
    "    def backward(self, X, Y):\n",
    "        \"\"\"\n",
    "        Backward propagation\n",
    "        X: input\n",
    "        Y: output\n",
    "        \"\"\"\n",
    "        if self.activation == \"relu\":\n",
    "            currentActivationFuntion = self.relu_backward\n",
    "        elif self.activation == \"leaky_relu\":\n",
    "            currentActivationFuntion = self.leaky_relu_backward\n",
    "        elif self.activation == \"sigmoid\":\n",
    "            currentActivationFuntion = self.sigmoid_backward\n",
    "        elif self.activation == \"linear\":\n",
    "            currentActivationFuntion = self.linear_backward\n",
    "        elif self.activation == \"tanh\":\n",
    "            currentActivationFuntion = self.tanh_backward\n",
    "        elif self.activation == \"softmax\":\n",
    "            currentActivationFuntion = self.softmax_backward\n",
    "        else:\n",
    "            raise ValueError(\"Invalid activation function\")\n",
    "\n",
    "        # computing the gradients\n",
    "        self.gradients = {}\n",
    "        self.gradients['delta' + str(self.N_layers+1)] = (self.activationOutputs['A' + str(self.N_layers+1)] - Y)\n",
    "        self.gradients['dW' + str(self.N_layers+1)] = (1/len(X)) * np.dot(self.activationOutputs['A' + str(\n",
    "            self.N_layers)].T, self.gradients['delta' + str(self.N_layers+1)])\n",
    "        self.gradients['db' + str(self.N_layers+1)] = (1/len(X)) * np.sum(\n",
    "            self.gradients['delta' + str(self.N_layers+1)], axis=0, keepdims=True)\n",
    "\n",
    "        for i in range(self.N_layers, 1, -1):\n",
    "            self.gradients['delta' + str(i)] = np.dot(self.gradients['delta' + str(i+1)], self.model['W' + str(i+1)].T) * currentActivationFuntion(self.activationOutputs['Z' + str(i)])\n",
    "            self.gradients['dW' + str(i)] = (1/len(X)) * np.dot(self.activationOutputs['A' + str(i-1)].T, self.gradients['delta' + str(i)])\n",
    "            self.gradients['db' + str(i)] = (1/len(X)) * np.sum(\n",
    "                self.gradients['delta' + str(i)], axis=0, keepdims=True)\n",
    "\n",
    "        self.gradients['delta1'] = np.dot(self.gradients['delta2'], self.model['W2'].T) * currentActivationFuntion(self.activationOutputs['Z1'])\n",
    "        self.gradients['dW1'] = (1/len(X)) * np.dot(X.T, self.gradients['delta1'])\n",
    "        self.gradients['db1'] = (1/len(X)) * np.sum(self.gradients['delta1'], axis=0, keepdims=True)\n",
    "\n",
    "        # updating the model parameters\n",
    "        for i in range(1, self.N_layers+2):\n",
    "            self.model['W' + str(i)] -= self.learning_rate * self.gradients['dW' + str(i)]\n",
    "            self.model['b' + str(i)] -= self.learning_rate * self.gradients['db' + str(i)]\n",
    "\n",
    "    def oneHotEncoder(self, y, n_classes):\n",
    "        \"\"\"\n",
    "        One hot encoder\n",
    "        y: input\n",
    "        return: encoded output\n",
    "        \"\"\"\n",
    "        m = y.shape[0]\n",
    "        y_oht = np.zeros((m, n_classes))\n",
    "        y_oht[np.arange(m), y] = 1\n",
    "        return y_oht\n",
    "\n",
    "    def crossEntropyLoss(self, y_oht, y_prob):\n",
    "        \"\"\"\n",
    "        Cross entropy loss\n",
    "        y_oht: one hot encoded output\n",
    "        y_prob: probabilities for classes\n",
    "        return: cross entropy loss\n",
    "        \"\"\"\n",
    "        return -np.mean(y_oht * np.log(y_prob + 1e-8))\n",
    "\n",
    "    def fit(self, X, y, validX=None, validY=None, logs=True):\n",
    "        \"\"\"\n",
    "        Fit the model to the data\n",
    "        X: input\n",
    "        Y: output\n",
    "        epochs: number of epochs\n",
    "        \"\"\"\n",
    "        train_losses = []\n",
    "        valid_losses = []\n",
    "        train_accs = []\n",
    "        valid_accs = []\n",
    "        classes = self.N_outputs\n",
    "        batchSize = self.batch_size\n",
    "        y_oht = self.oneHotEncoder(y, classes)\n",
    "        if validX is not None and validY is not None:\n",
    "            y_oht_valid = self.oneHotEncoder(validY, classes)\n",
    "        for i in range(self.num_epochs):\n",
    "            for j in range(0, X.shape[0], batchSize):\n",
    "                X_batch = X[j:j+batchSize]\n",
    "                y_batch = y_oht[j:j+batchSize]\n",
    "                y_ = self.forward(X_batch)\n",
    "                self.backward(X_batch, y_batch)\n",
    "            y_ = self.forward(X)\n",
    "            train_loss = self.crossEntropyLoss(y_oht, y_)\n",
    "            train_losses.append(train_loss)\n",
    "            if validX is not None and validY is not None:\n",
    "                y_valid = self.forward(validX)\n",
    "                valid_loss = self.crossEntropyLoss(y_oht_valid, y_valid)\n",
    "                valid_losses.append(valid_loss)\n",
    "                validAcc = self.score(validX, validY)\n",
    "                valid_accs.append(validAcc)\n",
    "            trainAcc = self.score(X, y)\n",
    "            train_accs.append(trainAcc)\n",
    "            if logs:\n",
    "                print(\"Epoch: {}, Loss: {}, Score: {}\".format(i, train_loss, trainAcc))\n",
    "        if validX is not None and validY is not None:\n",
    "            return train_losses, valid_losses, train_accs, valid_accs\n",
    "        return train_losses, train_accs\n",
    "\n",
    "    def predict_proba(self, X):\n",
    "        \"\"\"\n",
    "        Predict probabilities\n",
    "        X: input\n",
    "        return: probabilities\n",
    "        \"\"\"\n",
    "        return self.forward(X)\n",
    "\n",
    "    def predict(self, X):\n",
    "        \"\"\"\n",
    "        Predict classes\n",
    "        X: input\n",
    "        return: classes\n",
    "        \"\"\"\n",
    "        return np.argmax(self.forward(X), axis=1)\n",
    "\n",
    "    def score(self, X, y):\n",
    "        \"\"\"\n",
    "        Score the model\n",
    "        X: input\n",
    "        Y: output\n",
    "        return: accuracy\n",
    "        \"\"\"\n",
    "        y_pred = self.predict(X)\n",
    "        return np.mean(y_pred == y)*100\n",
    "\n",
    "\n",
    "    def saveWeights(self, filename):\n",
    "        \"\"\"\n",
    "        Save the weights\n",
    "        filename: name of the file\n",
    "        \"\"\"\n",
    "        np.save(filename, self.model, allow_pickle=True)\n",
    "\n",
    "    def loadWeights(self, filename):\n",
    "        \"\"\"\n",
    "        Load the weights\n",
    "        filename: name of the file\n",
    "        \"\"\"\n",
    "        self.model = np.load(filename, allow_pickle=True).item()\n"
   ]
  },
  {
   "cell_type": "code",
   "execution_count": 19,
   "metadata": {},
   "outputs": [],
   "source": [
    "import os\n",
    "import gzip"
   ]
  },
  {
   "cell_type": "code",
   "execution_count": 20,
   "metadata": {},
   "outputs": [],
   "source": [
    "def load_mnist(path, kind='train'):\n",
    "    \"\"\"Load MNIST data from `path`\"\"\"\n",
    "    labels_path = os.path.join(path,\n",
    "                               '%s-labels-idx1-ubyte.gz'\n",
    "                               % kind)\n",
    "    images_path = os.path.join(path,\n",
    "                               '%s-images-idx3-ubyte.gz'\n",
    "                               % kind)\n",
    "\n",
    "    with gzip.open(labels_path, 'rb') as lbpath:\n",
    "        labels = np.frombuffer(lbpath.read(), dtype=np.uint8,\n",
    "                               offset=8)\n",
    "\n",
    "    with gzip.open(images_path, 'rb') as imgpath:\n",
    "        images = np.frombuffer(imgpath.read(), dtype=np.uint8,\n",
    "                               offset=16).reshape(len(labels), 784)\n",
    "\n",
    "    return images, labels\n"
   ]
  },
  {
   "cell_type": "code",
   "execution_count": 21,
   "metadata": {},
   "outputs": [],
   "source": [
    "allX, ally = load_mnist('Weights/Ques2/', kind='train')\n",
    "allX_2, ally_2 = load_mnist('Weights/Ques2/', kind='t10k')"
   ]
  },
  {
   "cell_type": "code",
   "execution_count": 22,
   "metadata": {},
   "outputs": [],
   "source": [
    "X = allX\n",
    "X = np.concatenate((X, allX_2), axis=0)\n",
    "y = ally\n",
    "y = np.concatenate((y, ally_2), axis=0)\n"
   ]
  },
  {
   "cell_type": "code",
   "execution_count": 23,
   "metadata": {},
   "outputs": [],
   "source": [
    "def train_test_split(df, trainSize=0.8, testSize=0.2, random_state=1):\n",
    "    validSize = 1 - trainSize - testSize\n",
    "    indices = np.arange(df.shape[0])\n",
    "    # np.random.seed(random_state)\n",
    "    np.random.shuffle(indices)\n",
    "    trainData = df.iloc[indices[:int(\n",
    "        trainSize*df.shape[0])]].reset_index(drop=True)\n",
    "    validData = df.iloc[indices[int(\n",
    "        trainSize*df.shape[0]):int((trainSize+validSize)*df.shape[0])]].reset_index(drop=True)\n",
    "    testData = df.iloc[indices[int(\n",
    "        (trainSize+validSize)*df.shape[0]):]].reset_index(drop=True)\n",
    "    if validSize == 0:\n",
    "        return trainData, testData\n",
    "    else:\n",
    "        return trainData, validData, testData\n"
   ]
  },
  {
   "cell_type": "code",
   "execution_count": 24,
   "metadata": {},
   "outputs": [
    {
     "name": "stdout",
     "output_type": "stream",
     "text": [
      "(70000, 785)\n"
     ]
    },
    {
     "data": {
      "text/html": [
       "<div>\n",
       "<style scoped>\n",
       "    .dataframe tbody tr th:only-of-type {\n",
       "        vertical-align: middle;\n",
       "    }\n",
       "\n",
       "    .dataframe tbody tr th {\n",
       "        vertical-align: top;\n",
       "    }\n",
       "\n",
       "    .dataframe thead th {\n",
       "        text-align: right;\n",
       "    }\n",
       "</style>\n",
       "<table border=\"1\" class=\"dataframe\">\n",
       "  <thead>\n",
       "    <tr style=\"text-align: right;\">\n",
       "      <th></th>\n",
       "      <th>0</th>\n",
       "      <th>1</th>\n",
       "      <th>2</th>\n",
       "      <th>3</th>\n",
       "      <th>4</th>\n",
       "      <th>5</th>\n",
       "      <th>6</th>\n",
       "      <th>7</th>\n",
       "      <th>8</th>\n",
       "      <th>9</th>\n",
       "      <th>...</th>\n",
       "      <th>775</th>\n",
       "      <th>776</th>\n",
       "      <th>777</th>\n",
       "      <th>778</th>\n",
       "      <th>779</th>\n",
       "      <th>780</th>\n",
       "      <th>781</th>\n",
       "      <th>782</th>\n",
       "      <th>783</th>\n",
       "      <th>0</th>\n",
       "    </tr>\n",
       "  </thead>\n",
       "  <tbody>\n",
       "    <tr>\n",
       "      <th>0</th>\n",
       "      <td>0</td>\n",
       "      <td>0</td>\n",
       "      <td>0</td>\n",
       "      <td>0</td>\n",
       "      <td>0</td>\n",
       "      <td>0</td>\n",
       "      <td>0</td>\n",
       "      <td>0</td>\n",
       "      <td>0</td>\n",
       "      <td>0</td>\n",
       "      <td>...</td>\n",
       "      <td>0</td>\n",
       "      <td>0</td>\n",
       "      <td>0</td>\n",
       "      <td>0</td>\n",
       "      <td>0</td>\n",
       "      <td>0</td>\n",
       "      <td>0</td>\n",
       "      <td>0</td>\n",
       "      <td>0</td>\n",
       "      <td>5</td>\n",
       "    </tr>\n",
       "    <tr>\n",
       "      <th>1</th>\n",
       "      <td>0</td>\n",
       "      <td>0</td>\n",
       "      <td>0</td>\n",
       "      <td>0</td>\n",
       "      <td>0</td>\n",
       "      <td>0</td>\n",
       "      <td>0</td>\n",
       "      <td>0</td>\n",
       "      <td>0</td>\n",
       "      <td>0</td>\n",
       "      <td>...</td>\n",
       "      <td>0</td>\n",
       "      <td>0</td>\n",
       "      <td>0</td>\n",
       "      <td>0</td>\n",
       "      <td>0</td>\n",
       "      <td>0</td>\n",
       "      <td>0</td>\n",
       "      <td>0</td>\n",
       "      <td>0</td>\n",
       "      <td>0</td>\n",
       "    </tr>\n",
       "    <tr>\n",
       "      <th>2</th>\n",
       "      <td>0</td>\n",
       "      <td>0</td>\n",
       "      <td>0</td>\n",
       "      <td>0</td>\n",
       "      <td>0</td>\n",
       "      <td>0</td>\n",
       "      <td>0</td>\n",
       "      <td>0</td>\n",
       "      <td>0</td>\n",
       "      <td>0</td>\n",
       "      <td>...</td>\n",
       "      <td>0</td>\n",
       "      <td>0</td>\n",
       "      <td>0</td>\n",
       "      <td>0</td>\n",
       "      <td>0</td>\n",
       "      <td>0</td>\n",
       "      <td>0</td>\n",
       "      <td>0</td>\n",
       "      <td>0</td>\n",
       "      <td>4</td>\n",
       "    </tr>\n",
       "    <tr>\n",
       "      <th>3</th>\n",
       "      <td>0</td>\n",
       "      <td>0</td>\n",
       "      <td>0</td>\n",
       "      <td>0</td>\n",
       "      <td>0</td>\n",
       "      <td>0</td>\n",
       "      <td>0</td>\n",
       "      <td>0</td>\n",
       "      <td>0</td>\n",
       "      <td>0</td>\n",
       "      <td>...</td>\n",
       "      <td>0</td>\n",
       "      <td>0</td>\n",
       "      <td>0</td>\n",
       "      <td>0</td>\n",
       "      <td>0</td>\n",
       "      <td>0</td>\n",
       "      <td>0</td>\n",
       "      <td>0</td>\n",
       "      <td>0</td>\n",
       "      <td>1</td>\n",
       "    </tr>\n",
       "    <tr>\n",
       "      <th>4</th>\n",
       "      <td>0</td>\n",
       "      <td>0</td>\n",
       "      <td>0</td>\n",
       "      <td>0</td>\n",
       "      <td>0</td>\n",
       "      <td>0</td>\n",
       "      <td>0</td>\n",
       "      <td>0</td>\n",
       "      <td>0</td>\n",
       "      <td>0</td>\n",
       "      <td>...</td>\n",
       "      <td>0</td>\n",
       "      <td>0</td>\n",
       "      <td>0</td>\n",
       "      <td>0</td>\n",
       "      <td>0</td>\n",
       "      <td>0</td>\n",
       "      <td>0</td>\n",
       "      <td>0</td>\n",
       "      <td>0</td>\n",
       "      <td>9</td>\n",
       "    </tr>\n",
       "  </tbody>\n",
       "</table>\n",
       "<p>5 rows × 785 columns</p>\n",
       "</div>"
      ],
      "text/plain": [
       "   0    1    2    3    4    5    6    7    8    9    ...  775  776  777  778  \\\n",
       "0    0    0    0    0    0    0    0    0    0    0  ...    0    0    0    0   \n",
       "1    0    0    0    0    0    0    0    0    0    0  ...    0    0    0    0   \n",
       "2    0    0    0    0    0    0    0    0    0    0  ...    0    0    0    0   \n",
       "3    0    0    0    0    0    0    0    0    0    0  ...    0    0    0    0   \n",
       "4    0    0    0    0    0    0    0    0    0    0  ...    0    0    0    0   \n",
       "\n",
       "   779  780  781  782  783  0    \n",
       "0    0    0    0    0    0    5  \n",
       "1    0    0    0    0    0    0  \n",
       "2    0    0    0    0    0    4  \n",
       "3    0    0    0    0    0    1  \n",
       "4    0    0    0    0    0    9  \n",
       "\n",
       "[5 rows x 785 columns]"
      ]
     },
     "execution_count": 24,
     "metadata": {},
     "output_type": "execute_result"
    }
   ],
   "source": [
    "X = pd.DataFrame(X)\n",
    "y = pd.DataFrame(y)\n",
    "allData = pd.concat([X, y], axis=1)\n",
    "print(allData.shape)\n",
    "allData.head()"
   ]
  },
  {
   "cell_type": "code",
   "execution_count": 25,
   "metadata": {},
   "outputs": [],
   "source": [
    "trainData, validData, testData = train_test_split(allData, trainSize=0.7, testSize=0.2, random_state=42)\n"
   ]
  },
  {
   "cell_type": "code",
   "execution_count": 26,
   "metadata": {},
   "outputs": [],
   "source": [
    "trainX = trainData.iloc[:, :-1]\n",
    "trainY = trainData.iloc[:, -1]\n",
    "validX = validData.iloc[:, :-1]\n",
    "validY = validData.iloc[:, -1]\n",
    "testX = testData.iloc[:, :-1]\n",
    "testY = testData.iloc[:, -1]\n"
   ]
  },
  {
   "cell_type": "code",
   "execution_count": 27,
   "metadata": {},
   "outputs": [],
   "source": [
    "trainX = trainX/255\n",
    "validX = validX/255\n",
    "testX = testX/255"
   ]
  },
  {
   "cell_type": "code",
   "execution_count": 28,
   "metadata": {},
   "outputs": [],
   "source": [
    "from sklearn.preprocessing import StandardScaler"
   ]
  },
  {
   "cell_type": "code",
   "execution_count": 29,
   "metadata": {},
   "outputs": [],
   "source": [
    "ss = StandardScaler()\n",
    "trainX = ss.fit_transform(trainX)\n",
    "validX = ss.transform(validX)\n",
    "testX = ss.transform(testX)"
   ]
  },
  {
   "cell_type": "code",
   "execution_count": 83,
   "metadata": {},
   "outputs": [
    {
     "name": "stdout",
     "output_type": "stream",
     "text": [
      "Train data size:  (49000, 785)\n",
      "Valid data size:  (7000, 785)\n",
      "Test data size:  (14000, 785)\n"
     ]
    }
   ],
   "source": [
    "# Importing and reading the dataset\n",
    "with open('Weights/Ques2/extracted/t10k-images-idx3-ubyte', 'rb') as f:\n",
    "    data = f.read()\n",
    "    test_images = np.frombuffer(data, dtype=np.uint8)[0x10:].reshape(-1, 784)\n",
    "\n",
    "with open('Weights/Ques2/extracted/t10k-labels-idx1-ubyte', 'rb') as f:\n",
    "    data = f.read()\n",
    "    test_labels = np.frombuffer(data, dtype=np.uint8)[8:]\n",
    "\n",
    "with open('Weights/Ques2/extracted/train-images-idx3-ubyte', 'rb') as f:\n",
    "    data = f.read()\n",
    "    train_images = np.frombuffer(data, dtype=np.uint8)[0x10:].reshape(-1, 784)\n",
    "\n",
    "with open('Weights/Ques2/extracted/train-labels-idx1-ubyte', 'rb') as f:\n",
    "    data = f.read()\n",
    "    train_labels = np.frombuffer(data, dtype=np.uint8)[8:]\n",
    "\n",
    "# Merging the training and testing data\n",
    "X = np.concatenate((train_images, test_images), axis=0)\n",
    "y = np.concatenate((train_labels, test_labels), axis=0)\n",
    "\n",
    "# Converting the data in pandas dataframe\n",
    "X = pd.DataFrame(X)\n",
    "y = pd.DataFrame(y)\n",
    "\n",
    "# Merging the images and the labels to make the data ready for train test split\n",
    "allData = pd.concat([X, y], axis=1)\n",
    "\n",
    "trainData, validData, testData = train_test_split(\n",
    "    allData, trainSize=0.7, testSize=0.2, random_state=42)\n",
    "print(\"Train data size: \", trainData.shape)\n",
    "print(\"Valid data size: \", validData.shape)\n",
    "print(\"Test data size: \", testData.shape)\n",
    "\n",
    "\n",
    "# Splitting the data into X and Y parts for all the three sets\n",
    "trainX = trainData.iloc[:, :-1]\n",
    "trainY = trainData.iloc[:, -1]\n",
    "validX = validData.iloc[:, :-1]\n",
    "validY = validData.iloc[:, -1]\n",
    "testX = testData.iloc[:, :-1]\n",
    "testY = testData.iloc[:, -1]\n",
    "\n",
    "\n",
    "# Normalizing the data\n",
    "trainX = trainX/255\n",
    "validX = validX/255\n",
    "testX = testX/255\n",
    "\n",
    "normalize = StandardScaler()\n",
    "trainX = normalize.fit_transform(trainX)\n",
    "validX = normalize.transform(validX)\n",
    "testX = normalize.transform(testX)\n",
    "\n",
    "# trainMean = trainX.mean()\n",
    "# trainStd = trainX.std()\n",
    "# trainX = (trainX - trainMean)/trainStd\n",
    "# validX = (validX - trainMean)/trainStd\n",
    "# testX = (testX - trainMean)/trainStd"
   ]
  },
  {
   "cell_type": "code",
   "execution_count": 92,
   "metadata": {},
   "outputs": [],
   "source": [
    "model = MyNeuralNetwork(N_inputs=784, N_outputs=10, N_layers=4, Layer_sizes=[256, 128, 64, 32], activation=\"softmax\", learning_rate=0.08, weight_init=\"normal\", num_epochs=150, batch_size=len(X)//10)"
   ]
  },
  {
   "cell_type": "code",
   "execution_count": 93,
   "metadata": {},
   "outputs": [
    {
     "name": "stdout",
     "output_type": "stream",
     "text": [
      "Epoch: 0, Loss: 0.23024663765472608, Score: 11.1\n",
      "Epoch: 1, Loss: 0.23023370627269718, Score: 11.1\n",
      "Epoch: 2, Loss: 0.23022219378795525, Score: 11.1\n",
      "Epoch: 3, Loss: 0.23021194577042586, Score: 11.1\n",
      "Epoch: 4, Loss: 0.23020282438227357, Score: 11.1\n",
      "Epoch: 5, Loss: 0.23019470662655184, Score: 11.1\n",
      "Epoch: 6, Loss: 0.23018748277720985, Score: 11.1\n",
      "Epoch: 7, Loss: 0.23018105497179486, Score: 11.1\n",
      "Epoch: 8, Loss: 0.23017533595019962, Score: 11.1\n",
      "Epoch: 9, Loss: 0.23017024792456292, Score: 11.1\n",
      "Epoch: 10, Loss: 0.23016572156697215, Score: 11.1\n",
      "Epoch: 11, Loss: 0.23016169510298276, Score: 11.1\n",
      "Epoch: 12, Loss: 0.23015811350017576, Score: 11.1\n",
      "Epoch: 13, Loss: 0.23015492774205992, Score: 11.1\n",
      "Epoch: 14, Loss: 0.23015209417858856, Score: 11.1\n",
      "Epoch: 15, Loss: 0.23014957394543092, Score: 11.1\n",
      "Epoch: 16, Loss: 0.23014733244492094, Score: 11.1\n",
      "Epoch: 17, Loss: 0.2301453388823086, Score: 11.1\n",
      "Epoch: 18, Loss: 0.23014356585157802, Score: 11.1\n",
      "Epoch: 19, Loss: 0.2301419889656675, Score: 11.1\n",
      "Epoch: 20, Loss: 0.2301405865264485, Score: 11.1\n",
      "Epoch: 21, Loss: 0.23013933923028787, Score: 11.1\n",
      "Epoch: 22, Loss: 0.2301382299054409, Score: 11.1\n",
      "Epoch: 23, Loss: 0.23013724327790694, Score: 11.1\n",
      "Epoch: 24, Loss: 0.2301363657627225, Score: 11.1\n",
      "Epoch: 25, Loss: 0.23013558527797956, Score: 11.1\n",
      "Epoch: 26, Loss: 0.23013489107913707, Score: 11.1\n",
      "Epoch: 27, Loss: 0.23013427361144756, Score: 11.1\n",
      "Epoch: 28, Loss: 0.23013372437854723, Score: 11.1\n",
      "Epoch: 29, Loss: 0.23013323582546294, Score: 11.1\n",
      "Epoch: 30, Loss: 0.23013280123447594, Score: 11.1\n",
      "Epoch: 31, Loss: 0.23013241463244502, Score: 11.1\n",
      "Epoch: 32, Loss: 0.23013207070834063, Score: 11.1\n",
      "Epoch: 33, Loss: 0.23013176473987804, Score: 11.1\n",
      "Epoch: 34, Loss: 0.23013149252825219, Score: 11.1\n",
      "Epoch: 35, Loss: 0.23013125034008766, Score: 11.1\n",
      "Epoch: 36, Loss: 0.23013103485581188, Score: 11.1\n",
      "Epoch: 37, Loss: 0.23013084312374427, Score: 11.1\n",
      "Epoch: 38, Loss: 0.230130672519274, Score: 11.1\n",
      "Epoch: 39, Loss: 0.23013052070856196, Score: 11.1\n",
      "Epoch: 40, Loss: 0.23013038561627125, Score: 11.1\n",
      "Epoch: 41, Loss: 0.23013026539687778, Score: 11.1\n",
      "Epoch: 42, Loss: 0.23013015840916612, Score: 11.1\n",
      "Epoch: 43, Loss: 0.23013006319355792, Score: 11.1\n",
      "Epoch: 44, Loss: 0.23012997845195846, Score: 11.1\n",
      "Epoch: 45, Loss: 0.2301299030298427, Score: 11.1\n",
      "Epoch: 46, Loss: 0.23012983590033112, Score: 11.1\n",
      "Epoch: 47, Loss: 0.23012977615003513, Score: 11.1\n",
      "Epoch: 48, Loss: 0.23012972296647605, Score: 11.1\n",
      "Epoch: 49, Loss: 0.23012967562690043, Score: 11.1\n",
      "Epoch: 50, Loss: 0.23012963348833998, Score: 11.1\n",
      "Epoch: 51, Loss: 0.23012959597877472, Score: 11.1\n",
      "Epoch: 52, Loss: 0.23012956258927694, Score: 11.1\n",
      "Epoch: 53, Loss: 0.23012953286702928, Score: 11.1\n",
      "Epoch: 54, Loss: 0.23012950640911672, Score: 11.1\n",
      "Epoch: 55, Loss: 0.2301294828570075, Score: 11.1\n",
      "Epoch: 56, Loss: 0.230129461891648, Score: 11.1\n",
      "Epoch: 57, Loss: 0.2301294432290993, Score: 11.1\n",
      "Epoch: 58, Loss: 0.23012942661666042, Score: 11.1\n",
      "Epoch: 59, Loss: 0.2301294118294183, Score: 11.1\n",
      "Epoch: 60, Loss: 0.23012939866718282, Score: 11.1\n",
      "Epoch: 61, Loss: 0.23012938695175938, Score: 11.1\n",
      "Epoch: 62, Loss: 0.23012937652452403, Score: 11.1\n",
      "Epoch: 63, Loss: 0.2301293672442677, Score: 11.1\n",
      "Epoch: 64, Loss: 0.23012935898527723, Score: 11.1\n",
      "Epoch: 65, Loss: 0.23012935163563067, Score: 11.1\n",
      "Epoch: 66, Loss: 0.23012934509567895, Score: 11.1\n",
      "Epoch: 67, Loss: 0.23012933927669635, Score: 11.1\n",
      "Epoch: 68, Loss: 0.2301293340996801, Score: 11.1\n",
      "Epoch: 69, Loss: 0.23012932949428166, Score: 11.1\n",
      "Epoch: 70, Loss: 0.23012932539785697, Score: 11.1\n",
      "Epoch: 71, Loss: 0.23012932175462, Score: 11.1\n",
      "Epoch: 72, Loss: 0.23012931851489038, Score: 11.1\n",
      "Epoch: 73, Loss: 0.23012931563442482, Score: 11.1\n",
      "Epoch: 74, Loss: 0.23012931307381934, Score: 11.1\n",
      "Epoch: 75, Loss: 0.23012931079798063, Score: 11.1\n",
      "Epoch: 76, Loss: 0.230129308775653, Score: 11.1\n",
      "Epoch: 77, Loss: 0.23012930697899903, Score: 11.1\n",
      "Epoch: 78, Loss: 0.23012930538322393, Score: 11.1\n",
      "Epoch: 79, Loss: 0.23012930396624465, Score: 11.1\n",
      "Epoch: 80, Loss: 0.23012930270839188, Score: 11.1\n",
      "Epoch: 81, Loss: 0.23012930159214678, Score: 11.1\n",
      "Epoch: 82, Loss: 0.23012930060190598, Score: 11.1\n",
      "Epoch: 83, Loss: 0.2301292997237722, Score: 11.1\n",
      "Epoch: 84, Loss: 0.23012929894536766, Score: 11.1\n",
      "Epoch: 85, Loss: 0.2301292982556687, Score: 11.1\n",
      "Epoch: 86, Loss: 0.23012929764485787, Score: 11.1\n",
      "Epoch: 87, Loss: 0.23012929710419153, Score: 11.1\n",
      "Epoch: 88, Loss: 0.23012929662588377, Score: 11.1\n",
      "Epoch: 89, Loss: 0.23012929620300104, Score: 11.1\n",
      "Epoch: 90, Loss: 0.2301292958293697, Score: 11.1\n",
      "Epoch: 91, Loss: 0.2301292954994929, Score: 11.1\n",
      "Epoch: 92, Loss: 0.2301292952084768, Score: 11.1\n",
      "Epoch: 93, Loss: 0.23012929495196502, Score: 11.1\n",
      "Epoch: 94, Loss: 0.2301292947260793, Score: 11.1\n",
      "Epoch: 95, Loss: 0.23012929452736866, Score: 11.1\n",
      "Epoch: 96, Loss: 0.23012929435276083, Score: 11.1\n",
      "Epoch: 97, Loss: 0.2301292941995233, Score: 11.1\n",
      "Epoch: 98, Loss: 0.23012929406522406, Score: 11.1\n",
      "Epoch: 99, Loss: 0.23012929394770035, Score: 11.1\n",
      "Epoch: 100, Loss: 0.23012929384502845, Score: 11.1\n",
      "Epoch: 101, Loss: 0.23012929375549782, Score: 11.1\n",
      "Epoch: 102, Loss: 0.2301292936775875, Score: 11.1\n",
      "Epoch: 103, Loss: 0.23012929360994608, Score: 11.1\n",
      "Epoch: 104, Loss: 0.23012929355137263, Score: 11.1\n",
      "Epoch: 105, Loss: 0.23012929350079978, Score: 11.1\n",
      "Epoch: 106, Loss: 0.23012929345728037, Score: 11.1\n",
      "Epoch: 107, Loss: 0.2301292934199731, Score: 11.1\n",
      "Epoch: 108, Loss: 0.2301292933881314, Score: 11.1\n",
      "Epoch: 109, Loss: 0.23012929336109283, Score: 11.1\n",
      "Epoch: 110, Loss: 0.23012929333827037, Score: 11.1\n",
      "Epoch: 111, Loss: 0.23012929331914314, Score: 11.1\n",
      "Epoch: 112, Loss: 0.2301292933032501, Score: 11.1\n",
      "Epoch: 113, Loss: 0.23012929329018275, Score: 11.1\n",
      "Epoch: 114, Loss: 0.23012929327957973, Score: 11.1\n",
      "Epoch: 115, Loss: 0.23012929327112125, Score: 11.1\n",
      "Epoch: 116, Loss: 0.23012929326452505, Score: 11.1\n",
      "Epoch: 117, Loss: 0.23012929325954137, Score: 11.1\n",
      "Epoch: 118, Loss: 0.23012929325595016, Score: 11.1\n",
      "Epoch: 119, Loss: 0.2301292932535572, Score: 11.1\n",
      "Epoch: 120, Loss: 0.23012929325219136, Score: 11.1\n",
      "Epoch: 121, Loss: 0.23012929325170242, Score: 11.1\n",
      "Epoch: 122, Loss: 0.2301292932519579, Score: 11.1\n",
      "Epoch: 123, Loss: 0.23012929325284182, Score: 11.1\n",
      "Epoch: 124, Loss: 0.2301292932542524, Score: 11.1\n",
      "Epoch: 125, Loss: 0.2301292932561004, Score: 11.1\n",
      "Epoch: 126, Loss: 0.23012929325830808, Score: 11.1\n",
      "Epoch: 127, Loss: 0.2301292932608076, Score: 11.1\n",
      "Epoch: 128, Loss: 0.23012929326353976, Score: 11.1\n",
      "Epoch: 129, Loss: 0.23012929326645334, Score: 11.1\n",
      "Epoch: 130, Loss: 0.23012929326950385, Score: 11.1\n",
      "Epoch: 131, Loss: 0.23012929327265283, Score: 11.1\n",
      "Epoch: 132, Loss: 0.23012929327586745, Score: 11.1\n",
      "Epoch: 133, Loss: 0.23012929327911924, Score: 11.1\n",
      "Epoch: 134, Loss: 0.23012929328238396, Score: 11.1\n",
      "Epoch: 135, Loss: 0.23012929328564144, Score: 11.1\n",
      "Epoch: 136, Loss: 0.23012929328887394, Score: 11.1\n",
      "Epoch: 137, Loss: 0.23012929329206724, Score: 11.1\n",
      "Epoch: 138, Loss: 0.23012929329520918, Score: 11.1\n",
      "Epoch: 139, Loss: 0.2301292932982897, Score: 11.1\n",
      "Epoch: 140, Loss: 0.23012929330130116, Score: 11.1\n",
      "Epoch: 141, Loss: 0.23012929330423676, Score: 11.1\n",
      "Epoch: 142, Loss: 0.2301292933070917, Score: 11.1\n",
      "Epoch: 143, Loss: 0.23012929330986212, Score: 11.1\n",
      "Epoch: 144, Loss: 0.23012929331254534, Score: 11.1\n",
      "Epoch: 145, Loss: 0.2301292933151396, Score: 11.1\n",
      "Epoch: 146, Loss: 0.230129293317644, Score: 11.1\n",
      "Epoch: 147, Loss: 0.23012929332005785, Score: 11.1\n",
      "Epoch: 148, Loss: 0.23012929332238174, Score: 11.1\n",
      "Epoch: 149, Loss: 0.2301292933246161, Score: 11.1\n"
     ]
    }
   ],
   "source": [
    "trainLoss, validLoss, trainAccs, validAccs = model.fit(trainX, trainY, validX=validX, validY=validY, logs=True)"
   ]
  },
  {
   "cell_type": "code",
   "execution_count": 94,
   "metadata": {},
   "outputs": [],
   "source": [
    "model.saveWeights(\"Weights/Ques2/part1/softmax.npy\")"
   ]
  },
  {
   "cell_type": "code",
   "execution_count": 95,
   "metadata": {},
   "outputs": [
    {
     "name": "stdout",
     "output_type": "stream",
     "text": [
      "Test Accuracy Softmax: 11.778571428571428\n"
     ]
    }
   ],
   "source": [
    "print(\"Test Accuracy Softmax: {}\".format(model.score(testX, testY)))"
   ]
  },
  {
   "cell_type": "code",
   "execution_count": 87,
   "metadata": {},
   "outputs": [],
   "source": [
    "def lossVsEpochPlot(trainLoss, validLoss, funtion):\n",
    "    \"\"\"\n",
    "    Plot the loss vs epoch\n",
    "    trainLoss: train loss\n",
    "    validLoss: valid loss\n",
    "    filename: name of the file\n",
    "    \"\"\"\n",
    "    plt.plot(trainLoss, label=\"Train Loss\", color=\"blue\")\n",
    "    plt.plot(validLoss, label=\"Validation Loss\", color=\"red\")\n",
    "    plt.legend()\n",
    "    plt.xlabel(\"Epochs\")\n",
    "    plt.ylabel(\"Loss\")\n",
    "    plt.title(\"Loss vs Epochs for \" + funtion)\n",
    "    plt.savefig(\"Plots/Ques2/part1/{}_lossVsEpochs.png\".format(funtion))\n",
    "    plt.show()"
   ]
  },
  {
   "cell_type": "code",
   "execution_count": 88,
   "metadata": {},
   "outputs": [],
   "source": [
    "def accVsEpochPlot(trainAcc, validAcc, funtion):\n",
    "    \"\"\"\n",
    "    Plot the loss vs epoch\n",
    "    trainLoss: train loss\n",
    "    validLoss: valid loss\n",
    "    filename: name of the file\n",
    "    \"\"\"\n",
    "    plt.plot(trainAcc, label=\"Train Accuracy\", color=\"blue\")\n",
    "    plt.plot(validAcc, label=\"Validation Accuracy\", color=\"red\")\n",
    "    plt.legend()\n",
    "    plt.xlabel(\"Epochs\")\n",
    "    plt.ylabel(\"Accuracy\")\n",
    "    plt.title(\"Accuracy vs Epochs for \" + funtion)\n",
    "    plt.savefig(\"Plots/Ques2/part1/{}_accVsEpochs.png\".format(funtion))\n",
    "    plt.show()"
   ]
  },
  {
   "cell_type": "code",
   "execution_count": 96,
   "metadata": {},
   "outputs": [
    {
     "data": {
      "image/png": "[encoded data removed]",
      "text/plain": [
       "<Figure size 576x396 with 1 Axes>"
      ]
     },
     "metadata": {},
     "output_type": "display_data"
    }
   ],
   "source": [
    "lossVsEpochPlot(trainLoss, validLoss, \"softmax\")\n"
   ]
  },
  {
   "cell_type": "code",
   "execution_count": 98,
   "metadata": {},
   "outputs": [
    {
     "data": {
      "image/png": "[encoded data removed]",
      "text/plain": [
       "<Figure size 576x396 with 1 Axes>"
      ]
     },
     "metadata": {},
     "output_type": "display_data"
    }
   ],
   "source": [
    "accVsEpochPlot(trainAccs, validAccs, \"softmax\")"
   ]
  },
  {
   "cell_type": "code",
   "execution_count": 99,
   "metadata": {},
   "outputs": [],
   "source": [
    "from sklearn.neural_network import MLPClassifier"
   ]
  },
  {
   "cell_type": "code",
   "execution_count": null,
   "metadata": {},
   "outputs": [],
   "source": [
    "def sklearnModel(trainX, trainY, validX, validY, testX, testY, activationFn):\n",
    "    model = MLPClassifier(hidden_layer_sizes=(256, 128, 64, 32), activation=activationFn,\n",
    "                          learning_rate_init=0.08, max_iter=150, batch_size=len(X)//10, verbose=True)\n",
    "    model.fit(trainX, trainY)\n",
    "    print(\"Test Accuracy {}: {}\".format(activationFn, model.score(testX, testY)))\n",
    "    print(\"Validation Accuracy {}: {}\".format(activationFn, model.score(validX, validY)))\n",
    "    print(\"Train Accuracy {}: {}\".format(activationFn, model.score(trainX, trainY)))\n",
    "    \n"
   ]
  },
  {
   "cell_type": "code",
   "execution_count": 104,
   "metadata": {},
   "outputs": [],
   "source": [
    "model = MLPClassifier(hidden_layer_sizes=(256, 128, 64, 32), activation=\"relu\", learning_rate_init=0.08, max_iter=150, batch_size=len(X)//10, verbose=True)"
   ]
  },
  {
   "cell_type": "code",
   "execution_count": null,
   "metadata": {},
   "outputs": [],
   "source": []
  },
  {
   "cell_type": "code",
   "execution_count": 105,
   "metadata": {},
   "outputs": [
    {
     "name": "stdout",
     "output_type": "stream",
     "text": [
      "Iteration 1, loss = 8.31385535\n",
      "Iteration 2, loss = 2.36370322\n",
      "Iteration 3, loss = 2.33516690\n",
      "Iteration 4, loss = 2.31444088\n",
      "Iteration 5, loss = 2.30879045\n",
      "Iteration 6, loss = 2.30547421\n",
      "Iteration 7, loss = 2.30309779\n",
      "Iteration 8, loss = 2.30216142\n",
      "Iteration 9, loss = 2.30179404\n",
      "Iteration 10, loss = 2.30178702\n",
      "Iteration 11, loss = 2.30172515\n",
      "Iteration 12, loss = 2.30161840\n",
      "Iteration 13, loss = 2.30160209\n",
      "Iteration 14, loss = 2.30160507\n",
      "Iteration 15, loss = 2.30161976\n",
      "Iteration 16, loss = 2.30160015\n",
      "Iteration 17, loss = 2.30161765\n",
      "Iteration 18, loss = 2.30158868\n",
      "Iteration 19, loss = 2.30162126\n",
      "Iteration 20, loss = 2.30161616\n",
      "Iteration 21, loss = 2.30161789\n",
      "Iteration 22, loss = 2.30162787\n",
      "Iteration 23, loss = 2.30162492\n",
      "Training loss did not improve more than tol=0.000100 for 10 consecutive epochs. Stopping.\n"
     ]
    },
    {
     "data": {
      "text/plain": [
       "MLPClassifier(batch_size=7000, hidden_layer_sizes=(256, 128, 64, 32),\n",
       "              learning_rate_init=0.08, max_iter=150, verbose=True)"
      ]
     },
     "execution_count": 105,
     "metadata": {},
     "output_type": "execute_result"
    }
   ],
   "source": [
    "model.fit(trainX, trainY)"
   ]
  },
  {
   "cell_type": "code",
   "execution_count": 106,
   "metadata": {},
   "outputs": [
    {
     "data": {
      "text/plain": [
       "0.11778571428571429"
      ]
     },
     "execution_count": 106,
     "metadata": {},
     "output_type": "execute_result"
    }
   ],
   "source": [
    "model.score(testX, testY)"
   ]
  },
  {
   "cell_type": "code",
   "execution_count": 107,
   "metadata": {},
   "outputs": [
    {
     "data": {
      "text/plain": [
       "0.111"
      ]
     },
     "execution_count": 107,
     "metadata": {},
     "output_type": "execute_result"
    }
   ],
   "source": [
    "model.score(trainX, trainY)"
   ]
  },
  {
   "cell_type": "code",
   "execution_count": 108,
   "metadata": {},
   "outputs": [
    {
     "data": {
      "text/plain": [
       "0.11271428571428571"
      ]
     },
     "execution_count": 108,
     "metadata": {},
     "output_type": "execute_result"
    }
   ],
   "source": [
    "model.score(validX, validY)"
   ]
  },
  {
   "cell_type": "code",
   "execution_count": 109,
   "metadata": {},
   "outputs": [
    {
     "data": {
      "text/plain": [
       "[8.31385535398367,\n",
       " 2.3637032159478095,\n",
       " 2.3351669003715885,\n",
       " 2.3144408763875846,\n",
       " 2.308790446612358,\n",
       " 2.305474211211419,\n",
       " 2.3030977910798742,\n",
       " 2.3021614231226644,\n",
       " 2.3017940441712623,\n",
       " 2.301787023686481,\n",
       " 2.3017251508284833,\n",
       " 2.3016183961213703,\n",
       " 2.30160208743725,\n",
       " 2.3016050686059804,\n",
       " 2.301619761727831,\n",
       " 2.3016001488699342,\n",
       " 2.3016176535077837,\n",
       " 2.3015886816145454,\n",
       " 2.3016212597665584,\n",
       " 2.3016161638196864,\n",
       " 2.3016178866310746,\n",
       " 2.3016278707208833,\n",
       " 2.301624924110588]"
      ]
     },
     "execution_count": 109,
     "metadata": {},
     "output_type": "execute_result"
    }
   ],
   "source": [
    "model.loss_curve_"
   ]
  },
  {
   "cell_type": "code",
   "execution_count": null,
   "metadata": {},
   "outputs": [],
   "source": []
  },
  {
   "cell_type": "code",
   "execution_count": 40,
   "metadata": {},
   "outputs": [
    {
     "data": {
      "image/png": "[encoded data removed]",
      "text/plain": [
       "<Figure size 576x396 with 1 Axes>"
      ]
     },
     "metadata": {},
     "output_type": "display_data"
    }
   ],
   "source": [
    "plt.plot(trainLoss, label=\"Training Loss\", color=\"blue\")\n",
    "plt.plot(validLoss, label=\"Validation Loss\", color=\"red\")\n",
    "plt.legend()\n",
    "plt.xlabel(\"Epochs\")\n",
    "plt.ylabel(\"Loss\")\n",
    "plt.title(\"Loss vs Epochs\")\n",
    "plt.show()"
   ]
  },
  {
   "cell_type": "code",
   "execution_count": null,
   "metadata": {},
   "outputs": [],
   "source": []
  },
  {
   "cell_type": "code",
   "execution_count": null,
   "metadata": {},
   "outputs": [],
   "source": []
  },
  {
   "cell_type": "code",
   "execution_count": null,
   "metadata": {},
   "outputs": [],
   "source": []
  },
  {
   "cell_type": "code",
   "execution_count": null,
   "metadata": {},
   "outputs": [],
   "source": []
  },
  {
   "cell_type": "code",
   "execution_count": 199,
   "metadata": {},
   "outputs": [],
   "source": [
    "model2 = MyNeuralNetwork(N_inputs=784, N_outputs=10, N_layers=1, Layer_sizes=[\n",
    "                        100], activation=\"sigmoid\", learning_rate=0.01, weight_init=\"normal\", num_epochs=2, batch_size=len(X)//20)\n"
   ]
  },
  {
   "cell_type": "code",
   "execution_count": 200,
   "metadata": {},
   "outputs": [],
   "source": [
    "model2.loadWeights(\"Weights/Ques2/weights.npy\")"
   ]
  },
  {
   "cell_type": "code",
   "execution_count": 201,
   "metadata": {},
   "outputs": [
    {
     "name": "stdout",
     "output_type": "stream",
     "text": [
      "Epoch: 0, Loss: 0.18715989664770388, Score: 11.287755102040817\n",
      "Epoch: 1, Loss: 0.20056223072583163, Score: 11.26530612244898\n"
     ]
    },
    {
     "data": {
      "text/plain": [
       "[0.18715989664770388, 0.20056223072583163]"
      ]
     },
     "execution_count": 201,
     "metadata": {},
     "output_type": "execute_result"
    }
   ],
   "source": [
    "model2.fit(trainX, trainY, logs=True)"
   ]
  },
  {
   "cell_type": "code",
   "execution_count": 194,
   "metadata": {},
   "outputs": [
    {
     "name": "stdout",
     "output_type": "stream",
     "text": [
      "Epoch: 0, Loss: 0.18715989664770388, Score: 11.287755102040817\n",
      "Epoch: 1, Loss: 0.20056223072583163, Score: 11.26530612244898\n"
     ]
    }
   ],
   "source": [
    "_, _ = model1.fit(trainX, trainY, validX=validX, validY=validY, logs=True)"
   ]
  },
  {
   "cell_type": "code",
   "execution_count": 172,
   "metadata": {},
   "outputs": [
    {
     "ename": "ValueError",
     "evalue": "Object arrays cannot be loaded when allow_pickle=False",
     "output_type": "error",
     "traceback": [
      "\u001b[0;31m---------------------------------------------------------------------------\u001b[0m",
      "\u001b[0;31mValueError\u001b[0m                                Traceback (most recent call last)",
      "\u001b[0;32m/var/folders/fc/z3ktrz354nddfg1wt432tbm80000gn/T/ipykernel_3349/1653368765.py\u001b[0m in \u001b[0;36m<module>\u001b[0;34m\u001b[0m\n\u001b[0;32m----> 1\u001b[0;31m \u001b[0mmodel\u001b[0m\u001b[0;34m.\u001b[0m\u001b[0mloadWeights\u001b[0m\u001b[0;34m(\u001b[0m\u001b[0;34m\"Weights/Ques2/weights.npy\"\u001b[0m\u001b[0;34m)\u001b[0m\u001b[0;34m\u001b[0m\u001b[0;34m\u001b[0m\u001b[0m\n\u001b[0m",
      "\u001b[0;32m/var/folders/fc/z3ktrz354nddfg1wt432tbm80000gn/T/ipykernel_3349/684942059.py\u001b[0m in \u001b[0;36mloadWeights\u001b[0;34m(self, filename)\u001b[0m\n\u001b[1;32m    338\u001b[0m         \u001b[0mfilename\u001b[0m\u001b[0;34m:\u001b[0m \u001b[0mname\u001b[0m \u001b[0mof\u001b[0m \u001b[0mthe\u001b[0m \u001b[0mfile\u001b[0m\u001b[0;34m\u001b[0m\u001b[0;34m\u001b[0m\u001b[0m\n\u001b[1;32m    339\u001b[0m         \"\"\"\n\u001b[0;32m--> 340\u001b[0;31m         \u001b[0mself\u001b[0m\u001b[0;34m.\u001b[0m\u001b[0mmodel\u001b[0m \u001b[0;34m=\u001b[0m \u001b[0mnp\u001b[0m\u001b[0;34m.\u001b[0m\u001b[0mload\u001b[0m\u001b[0;34m(\u001b[0m\u001b[0mfilename\u001b[0m\u001b[0;34m)\u001b[0m\u001b[0;34m\u001b[0m\u001b[0;34m\u001b[0m\u001b[0m\n\u001b[0m",
      "\u001b[0;32m/Library/Frameworks/Python.framework/Versions/3.9/lib/python3.9/site-packages/numpy/lib/npyio.py\u001b[0m in \u001b[0;36mload\u001b[0;34m(file, mmap_mode, allow_pickle, fix_imports, encoding)\u001b[0m\n\u001b[1;32m    437\u001b[0m                 \u001b[0;32mreturn\u001b[0m \u001b[0mformat\u001b[0m\u001b[0;34m.\u001b[0m\u001b[0mopen_memmap\u001b[0m\u001b[0;34m(\u001b[0m\u001b[0mfile\u001b[0m\u001b[0;34m,\u001b[0m \u001b[0mmode\u001b[0m\u001b[0;34m=\u001b[0m\u001b[0mmmap_mode\u001b[0m\u001b[0;34m)\u001b[0m\u001b[0;34m\u001b[0m\u001b[0;34m\u001b[0m\u001b[0m\n\u001b[1;32m    438\u001b[0m             \u001b[0;32melse\u001b[0m\u001b[0;34m:\u001b[0m\u001b[0;34m\u001b[0m\u001b[0;34m\u001b[0m\u001b[0m\n\u001b[0;32m--> 439\u001b[0;31m                 return format.read_array(fid, allow_pickle=allow_pickle,\n\u001b[0m\u001b[1;32m    440\u001b[0m                                          pickle_kwargs=pickle_kwargs)\n\u001b[1;32m    441\u001b[0m         \u001b[0;32melse\u001b[0m\u001b[0;34m:\u001b[0m\u001b[0;34m\u001b[0m\u001b[0;34m\u001b[0m\u001b[0m\n",
      "\u001b[0;32m/Library/Frameworks/Python.framework/Versions/3.9/lib/python3.9/site-packages/numpy/lib/format.py\u001b[0m in \u001b[0;36mread_array\u001b[0;34m(fp, allow_pickle, pickle_kwargs)\u001b[0m\n\u001b[1;32m    725\u001b[0m         \u001b[0;31m# The array contained Python objects. We need to unpickle the data.\u001b[0m\u001b[0;34m\u001b[0m\u001b[0;34m\u001b[0m\u001b[0;34m\u001b[0m\u001b[0m\n\u001b[1;32m    726\u001b[0m         \u001b[0;32mif\u001b[0m \u001b[0;32mnot\u001b[0m \u001b[0mallow_pickle\u001b[0m\u001b[0;34m:\u001b[0m\u001b[0;34m\u001b[0m\u001b[0;34m\u001b[0m\u001b[0m\n\u001b[0;32m--> 727\u001b[0;31m             raise ValueError(\"Object arrays cannot be loaded when \"\n\u001b[0m\u001b[1;32m    728\u001b[0m                              \"allow_pickle=False\")\n\u001b[1;32m    729\u001b[0m         \u001b[0;32mif\u001b[0m \u001b[0mpickle_kwargs\u001b[0m \u001b[0;32mis\u001b[0m \u001b[0;32mNone\u001b[0m\u001b[0;34m:\u001b[0m\u001b[0;34m\u001b[0m\u001b[0;34m\u001b[0m\u001b[0m\n",
      "\u001b[0;31mValueError\u001b[0m: Object arrays cannot be loaded when allow_pickle=False"
     ]
    }
   ],
   "source": [
    "model.loadWeights(\"Weights/Ques2/weights.npy\")"
   ]
  },
  {
   "cell_type": "code",
   "execution_count": 147,
   "metadata": {},
   "outputs": [
    {
     "data": {
      "text/plain": [
       "93.37142857142857"
      ]
     },
     "execution_count": 147,
     "metadata": {},
     "output_type": "execute_result"
    }
   ],
   "source": [
    "model.score(testX, testY)"
   ]
  },
  {
   "cell_type": "code",
   "execution_count": 150,
   "metadata": {},
   "outputs": [
    {
     "data": {
      "image/png": "[encoded data removed]",
      "text/plain": [
       "<Figure size 432x288 with 1 Axes>"
      ]
     },
     "metadata": {
      "needs_background": "light"
     },
     "output_type": "display_data"
    }
   ],
   "source": [
    "plt.plot(trainLoss, label='Training Loss')\n",
    "plt.plot(validLoss, label='Validation Loss')\n",
    "plt.legend()\n",
    "plt.show()"
   ]
  },
  {
   "cell_type": "code",
   "execution_count": 212,
   "metadata": {},
   "outputs": [],
   "source": [
    "def softmax_forward( X):\n",
    "    \"\"\"\n",
    "    Softmax activation function\n",
    "    X: input\n",
    "    return: output after applying the softmax function\n",
    "    \"\"\"\n",
    "    exp = np.exp(X - np.max(X))\n",
    "    return exp/np.sum(exp, axis=1, keepdims=True)\n",
    "\n",
    "# softmax implemetatation incomplete\n",
    "def softmax_backward( X):\n",
    "    \"\"\"\n",
    "    Softmax activation function\n",
    "    X: input\n",
    "    return: output after applying the gradient of softmax function\n",
    "    \"\"\"\n",
    "    # softmax = self.softmax_forward(X)\n",
    "    # e = np.ones((softmax.shape[0], 1))\n",
    "    # v1 = np.dot(softmax, e.T)\n",
    "    # i = np.eye(softmax.shape[0])\n",
    "    # v2 = i - np.dot(e, softmax.T)\n",
    "    # return np.multiply(v1, v2)\n",
    "    X = np.array(X)\n",
    "    s = X.reshape(-1, 1)\n",
    "    return np.diagflat(s) - np.dot(s, s.T)\n"
   ]
  },
  {
   "cell_type": "code",
   "execution_count": 213,
   "metadata": {},
   "outputs": [],
   "source": [
    "y = [[10, 20]]"
   ]
  },
  {
   "cell_type": "code",
   "execution_count": 214,
   "metadata": {},
   "outputs": [
    {
     "data": {
      "text/plain": [
       "array([[4.53978687e-05, 9.99954602e-01]])"
      ]
     },
     "execution_count": 214,
     "metadata": {},
     "output_type": "execute_result"
    }
   ],
   "source": [
    "softmax_forward(y)"
   ]
  },
  {
   "cell_type": "code",
   "execution_count": 215,
   "metadata": {},
   "outputs": [
    {
     "data": {
      "text/plain": [
       "array([[ -90, -200],\n",
       "       [-200, -380]])"
      ]
     },
     "execution_count": 215,
     "metadata": {},
     "output_type": "execute_result"
    }
   ],
   "source": [
    "softmax_backward(y)"
   ]
  },
  {
   "cell_type": "code",
   "execution_count": null,
   "metadata": {},
   "outputs": [],
   "source": []
  }
 ],
 "metadata": {
  "interpreter": {
   "hash": "aee8b7b246df8f9039afb4144a1f6fd8d2ca17a180786b69acc140d282b71a49"
  },
  "kernelspec": {
   "display_name": "Python 3.9.1 64-bit",
   "name": "python3"
  },
  "language_info": {
   "codemirror_mode": {
    "name": "ipython",
    "version": 3
   },
   "file_extension": ".py",
   "mimetype": "text/x-python",
   "name": "python",
   "nbconvert_exporter": "python",
   "pygments_lexer": "ipython3",
   "version": "3.9.1"
  },
  "orig_nbformat": 4
 },
 "nbformat": 4,
 "nbformat_minor": 2
}
