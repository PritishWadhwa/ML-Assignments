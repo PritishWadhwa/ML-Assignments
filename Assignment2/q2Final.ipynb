{
 "cells": [
  {
   "cell_type": "code",
   "execution_count": 1,
   "metadata": {},
   "outputs": [],
   "source": [
    "import numpy as np\n",
    "import matplotlib.pyplot as plt"
   ]
  },
  {
   "cell_type": "code",
   "execution_count": 5,
   "metadata": {},
   "outputs": [],
   "source": [
    "with open('Weights/Ques2/extracted/t10k-images-idx3-ubyte', 'rb') as f:\n",
    "    data = f.read()\n",
    "    test_images = np.frombuffer(data, dtype=np.uint8)[0x10:].reshape(-1, 784)\n",
    "\n",
    "with open('Weights/Ques2/extracted/t10k-labels-idx1-ubyte', 'rb') as f:\n",
    "    data = f.read()\n",
    "    test_labels = np.frombuffer(data, dtype=np.uint8)[8:]\n",
    "\n",
    "with open('Weights/Ques2/extracted/train-images-idx3-ubyte', 'rb') as f:\n",
    "    data = f.read()\n",
    "    train_images = np.frombuffer(data, dtype=np.uint8)[0x10:].reshape(-1, 784)\n",
    "\n",
    "with open('Weights/Ques2/extracted/train-labels-idx1-ubyte', 'rb') as f:\n",
    "    data = f.read()\n",
    "    train_labels = np.frombuffer(data, dtype=np.uint8)[8:]\n"
   ]
  },
  {
   "cell_type": "code",
   "execution_count": 6,
   "metadata": {},
   "outputs": [
    {
     "data": {
      "text/plain": [
       "((10000, 784), (10000,))"
      ]
     },
     "execution_count": 6,
     "metadata": {},
     "output_type": "execute_result"
    }
   ],
   "source": [
    "test_images.shape, test_labels.shape"
   ]
  },
  {
   "cell_type": "code",
   "execution_count": 7,
   "metadata": {},
   "outputs": [
    {
     "data": {
      "text/plain": [
       "((60000, 784), (60000,))"
      ]
     },
     "execution_count": 7,
     "metadata": {},
     "output_type": "execute_result"
    }
   ],
   "source": [
    "train_images.shape, train_labels.shape"
   ]
  },
  {
   "cell_type": "code",
   "execution_count": 8,
   "metadata": {},
   "outputs": [],
   "source": [
    "X = np.concatenate((train_images, test_images), axis=0)\n",
    "y = np.concatenatxe((train_labels, test_labels), axis=0)"
   ]
  },
  {
   "cell_type": "code",
   "execution_count": 9,
   "metadata": {},
   "outputs": [
    {
     "data": {
      "text/plain": [
       "((70000, 784), (70000,))"
      ]
     },
     "execution_count": 9,
     "metadata": {},
     "output_type": "execute_result"
    }
   ],
   "source": [
    "X.shape, y.shape"
   ]
  },
  {
   "cell_type": "code",
   "execution_count": 15,
   "metadata": {},
   "outputs": [
    {
     "data": {
      "image/png": "[encoded data removed]",
      "text/plain": [
       "<Figure size 432x288 with 1 Axes>"
      ]
     },
     "metadata": {
      "needs_background": "light"
     },
     "output_type": "display_data"
    }
   ],
   "source": [
    "def drawImg(X, Y):\n",
    "    plt.imshow(X.reshape(28, 28), cmap='gray')\n",
    "    plt.title(\"Label \" + str(Y))\n",
    "    plt.axis('off')\n",
    "    plt.show()\n",
    "drawImg(X[1000], y[1000])"
   ]
  },
  {
   "cell_type": "code",
   "execution_count": null,
   "metadata": {},
   "outputs": [],
   "source": []
  }
 ],
 "metadata": {
  "interpreter": {
   "hash": "aee8b7b246df8f9039afb4144a1f6fd8d2ca17a180786b69acc140d282b71a49"
  },
  "kernelspec": {
   "display_name": "Python 3.9.1 64-bit",
   "name": "python3"
  },
  "language_info": {
   "codemirror_mode": {
    "name": "ipython",
    "version": 3
   },
   "file_extension": ".py",
   "mimetype": "text/x-python",
   "name": "python",
   "nbconvert_exporter": "python",
   "pygments_lexer": "ipython3",
   "version": "3.9.1"
  },
  "orig_nbformat": 4
 },
 "nbformat": 4,
 "nbformat_minor": 2
}
